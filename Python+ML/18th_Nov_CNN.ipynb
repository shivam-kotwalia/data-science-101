{
  "nbformat": 4,
  "nbformat_minor": 0,
  "metadata": {
    "colab": {
      "name": "18th Nov CNN.ipynb",
      "version": "0.3.2",
      "provenance": [],
      "collapsed_sections": []
    },
    "kernelspec": {
      "name": "python3",
      "display_name": "Python 3"
    },
    "accelerator": "GPU"
  },
  "cells": [
    {
      "metadata": {
        "id": "bOK_sMdM4mO4",
        "colab_type": "code",
        "colab": {
          "base_uri": "https://localhost:8080/",
          "height": 183
        },
        "outputId": "18ad97c3-887e-4588-afc5-f0ff08742e71"
      },
      "cell_type": "code",
      "source": [
        "!pip install tensorboardcolab"
      ],
      "execution_count": 1,
      "outputs": [
        {
          "output_type": "stream",
          "text": [
            "Collecting tensorboardcolab\n",
            "  Downloading https://files.pythonhosted.org/packages/73/3d/eaf745e162e471c5bb2737a407d8626fb8684a88cf085045456aeb841d3c/tensorboardcolab-0.0.19.tar.gz\n",
            "Building wheels for collected packages: tensorboardcolab\n",
            "  Running setup.py bdist_wheel for tensorboardcolab ... \u001b[?25l-\b \bdone\n",
            "\u001b[?25h  Stored in directory: /root/.cache/pip/wheels/ab/74/02/cda602d1dc28b2f12eab313c49b9bfa14d6371326bc2590e06\n",
            "Successfully built tensorboardcolab\n",
            "Installing collected packages: tensorboardcolab\n",
            "Successfully installed tensorboardcolab-0.0.19\n"
          ],
          "name": "stdout"
        }
      ]
    },
    {
      "metadata": {
        "id": "O12qbgH2uzao",
        "colab_type": "code",
        "colab": {
          "base_uri": "https://localhost:8080/",
          "height": 35
        },
        "outputId": "d787dfb9-c651-4af5-ac3a-5225c15461a6"
      },
      "cell_type": "code",
      "source": [
        "import keras"
      ],
      "execution_count": 2,
      "outputs": [
        {
          "output_type": "stream",
          "text": [
            "Using TensorFlow backend.\n"
          ],
          "name": "stderr"
        }
      ]
    },
    {
      "metadata": {
        "id": "uKyh6HgGwTrC",
        "colab_type": "code",
        "colab": {}
      },
      "cell_type": "code",
      "source": [
        "from keras.datasets import mnist"
      ],
      "execution_count": 0,
      "outputs": []
    },
    {
      "metadata": {
        "id": "5fC1zu1zwaJh",
        "colab_type": "code",
        "colab": {
          "base_uri": "https://localhost:8080/",
          "height": 54
        },
        "outputId": "5a37f0d5-26a5-4665-f33e-22db5f425a9c"
      },
      "cell_type": "code",
      "source": [
        "(x_train, y_train), (x_test, y_test) = mnist.load_data()"
      ],
      "execution_count": 4,
      "outputs": [
        {
          "output_type": "stream",
          "text": [
            "Downloading data from https://s3.amazonaws.com/img-datasets/mnist.npz\n",
            "11493376/11490434 [==============================] - 0s 0us/step\n"
          ],
          "name": "stdout"
        }
      ]
    },
    {
      "metadata": {
        "id": "-HbgZTZ4wpg9",
        "colab_type": "code",
        "colab": {
          "base_uri": "https://localhost:8080/",
          "height": 35
        },
        "outputId": "8565a73d-129c-46ba-b8cb-8268fec47d1b"
      },
      "cell_type": "code",
      "source": [
        "x_train.shape, y_train.shape, x_test.shape, y_test.shape"
      ],
      "execution_count": 5,
      "outputs": [
        {
          "output_type": "execute_result",
          "data": {
            "text/plain": [
              "((60000, 28, 28), (60000,), (10000, 28, 28), (10000,))"
            ]
          },
          "metadata": {
            "tags": []
          },
          "execution_count": 5
        }
      ]
    },
    {
      "metadata": {
        "id": "FXqOr9ltwuhm",
        "colab_type": "code",
        "colab": {
          "base_uri": "https://localhost:8080/",
          "height": 365
        },
        "outputId": "2b8db8df-2120-47fc-a6c4-88d0de181292"
      },
      "cell_type": "code",
      "source": [
        "import matplotlib.pyplot as plt\n",
        "plt.imshow(x_train[2100], cmap=\"gray\")\n",
        "print(y_train[2100])"
      ],
      "execution_count": 6,
      "outputs": [
        {
          "output_type": "stream",
          "text": [
            "0\n"
          ],
          "name": "stdout"
        },
        {
          "output_type": "display_data",
          "data": {
            "image/png": "[encoded data removed]",
            "text/plain": [
              "<matplotlib.figure.Figure at 0x7f40ffda2d68>"
            ]
          },
          "metadata": {
            "tags": []
          }
        }
      ]
    },
    {
      "metadata": {
        "id": "v66hjilDw5k1",
        "colab_type": "code",
        "colab": {}
      },
      "cell_type": "code",
      "source": [
        "from keras.layers import Flatten, Dense, Conv2D, InputLayer, MaxPooling2D, Dropout"
      ],
      "execution_count": 0,
      "outputs": []
    },
    {
      "metadata": {
        "id": "CCwzpqXrxgcA",
        "colab_type": "code",
        "colab": {}
      },
      "cell_type": "code",
      "source": [
        "from keras.models import Sequential"
      ],
      "execution_count": 0,
      "outputs": []
    },
    {
      "metadata": {
        "id": "jPTRR_rCzYPh",
        "colab_type": "code",
        "colab": {}
      },
      "cell_type": "code",
      "source": [
        "from keras.optimizers import SGD\n",
        "from keras.losses import categorical_crossentropy"
      ],
      "execution_count": 0,
      "outputs": []
    },
    {
      "metadata": {
        "id": "aRVsxrl2xmjo",
        "colab_type": "code",
        "colab": {}
      },
      "cell_type": "code",
      "source": [
        "model = Sequential()\n",
        "model.add(InputLayer((28, 28, 1)))\n",
        "model.add(Conv2D(64, (3,3), strides=(1,1), activation='relu'))\n",
        "model.add(MaxPooling2D((2,2)))\n",
        "\n",
        "model.add(Conv2D(64, (3,3), strides=(1,1), activation='relu'))\n",
        "model.add(MaxPooling2D((2,2)))\n",
        "\n",
        "model.add(Conv2D(32, (3,3), strides=(1,1), activation='relu'))\n",
        "model.add(MaxPooling2D((2,2)))\n",
        "\n",
        "model.add(Flatten())\n",
        "model.add(Dense(64, activation='relu'))\n",
        "model.add(Dropout(0.25))\n",
        "model.add(Dense(32, activation='relu'))\n",
        "model.add(Dropout(0.25))\n",
        "model.add(Dense(10, activation='softmax'))"
      ],
      "execution_count": 0,
      "outputs": []
    },
    {
      "metadata": {
        "id": "1woGPy5ly5CR",
        "colab_type": "code",
        "colab": {}
      },
      "cell_type": "code",
      "source": [
        "model.compile(optimizer=SGD(), loss=\"categorical_crossentropy\", metrics=[\"accuracy\"])"
      ],
      "execution_count": 0,
      "outputs": []
    },
    {
      "metadata": {
        "id": "9n8S5onQz6MZ",
        "colab_type": "text"
      },
      "cell_type": "markdown",
      "source": [
        "model"
      ]
    },
    {
      "metadata": {
        "id": "zJoG8bch0LkK",
        "colab_type": "code",
        "colab": {}
      },
      "cell_type": "code",
      "source": [
        "x_train = x_train.reshape(x_train.shape[0], x_train.shape[1], x_train.shape[2], 1)"
      ],
      "execution_count": 0,
      "outputs": []
    },
    {
      "metadata": {
        "id": "oqsnPUKZ0uef",
        "colab_type": "code",
        "colab": {
          "base_uri": "https://localhost:8080/",
          "height": 72
        },
        "outputId": "ddf56302-950d-448e-b5d0-fdf913837367"
      },
      "cell_type": "code",
      "source": [
        "from keras.utils import to_categorical\n",
        "from keras.callbacks import TensorBoard\n",
        "tb = TensorBoard(log_dir=\".\")\n",
        "\n",
        "from tensorboardcolab import TensorBoardColab, TensorBoardColabCallback\n",
        "tbc = TensorBoardColab()"
      ],
      "execution_count": 13,
      "outputs": [
        {
          "output_type": "stream",
          "text": [
            "Wait for 8 seconds...\n",
            "TensorBoard link:\n",
            "http://e3c6de15.ngrok.io\n"
          ],
          "name": "stdout"
        }
      ]
    },
    {
      "metadata": {
        "id": "t4ODG6II2AEo",
        "colab_type": "code",
        "colab": {}
      },
      "cell_type": "code",
      "source": [
        ""
      ],
      "execution_count": 0,
      "outputs": []
    },
    {
      "metadata": {
        "id": "r6VOdzdt0a3K",
        "colab_type": "code",
        "colab": {}
      },
      "cell_type": "code",
      "source": [
        "y_train = to_categorical(y_train)"
      ],
      "execution_count": 0,
      "outputs": []
    },
    {
      "metadata": {
        "id": "NXYIjfPZz5fU",
        "colab_type": "code",
        "colab": {
          "base_uri": "https://localhost:8080/",
          "height": 2373
        },
        "outputId": "96ffd60a-4305-4037-9d9e-a27fa56d4b32"
      },
      "cell_type": "code",
      "source": [
        "model.fit(x_train, y_train, validation_split=0.2, epochs=50, callbacks=[TensorBoardColabCallback(tbc)])"
      ],
      "execution_count": 15,
      "outputs": [
        {
          "output_type": "stream",
          "text": [
            "Train on 48000 samples, validate on 12000 samples\n",
            "Epoch 1/50\n",
            "48000/48000 [==============================] - 20s 422us/step - loss: 1.1691 - acc: 0.6161 - val_loss: 0.4832 - val_acc: 0.8505\n",
            "Epoch 2/50\n",
            "48000/48000 [==============================] - 17s 363us/step - loss: 0.4516 - acc: 0.8467 - val_loss: 0.3095 - val_acc: 0.8792\n",
            "Epoch 3/50\n",
            "48000/48000 [==============================] - 17s 364us/step - loss: 0.3496 - acc: 0.8633 - val_loss: 0.2606 - val_acc: 0.8827\n",
            "Epoch 4/50\n",
            "48000/48000 [==============================] - 17s 360us/step - loss: 0.3007 - acc: 0.8728 - val_loss: 0.2786 - val_acc: 0.8737\n",
            "Epoch 5/50\n",
            "48000/48000 [==============================] - 17s 358us/step - loss: 0.2779 - acc: 0.8758 - val_loss: 0.2408 - val_acc: 0.8870\n",
            "Epoch 6/50\n",
            "48000/48000 [==============================] - 17s 358us/step - loss: 0.2542 - acc: 0.8819 - val_loss: 0.2335 - val_acc: 0.8852\n",
            "Epoch 7/50\n",
            "48000/48000 [==============================] - 17s 357us/step - loss: 0.2447 - acc: 0.8848 - val_loss: 0.2340 - val_acc: 0.8862\n",
            "Epoch 8/50\n",
            "48000/48000 [==============================] - 17s 354us/step - loss: 0.2287 - acc: 0.8855 - val_loss: 0.2345 - val_acc: 0.8820\n",
            "Epoch 9/50\n",
            "48000/48000 [==============================] - 17s 353us/step - loss: 0.2212 - acc: 0.8874 - val_loss: 0.2296 - val_acc: 0.8890\n",
            "Epoch 10/50\n",
            "48000/48000 [==============================] - 17s 359us/step - loss: 0.2153 - acc: 0.8901 - val_loss: 0.2397 - val_acc: 0.8828\n",
            "Epoch 11/50\n",
            "48000/48000 [==============================] - 17s 354us/step - loss: 0.2074 - acc: 0.8929 - val_loss: 0.2255 - val_acc: 0.8913\n",
            "Epoch 12/50\n",
            "48000/48000 [==============================] - 17s 351us/step - loss: 0.2072 - acc: 0.8909 - val_loss: 0.2243 - val_acc: 0.8918\n",
            "Epoch 13/50\n",
            "48000/48000 [==============================] - 17s 355us/step - loss: 0.1975 - acc: 0.8949 - val_loss: 0.2266 - val_acc: 0.8908\n",
            "Epoch 14/50\n",
            "48000/48000 [==============================] - 17s 352us/step - loss: 0.1944 - acc: 0.8940 - val_loss: 0.2294 - val_acc: 0.8896\n",
            "Epoch 15/50\n",
            "48000/48000 [==============================] - 17s 349us/step - loss: 0.1908 - acc: 0.8958 - val_loss: 0.2350 - val_acc: 0.8887\n",
            "Epoch 16/50\n",
            "48000/48000 [==============================] - 17s 351us/step - loss: 0.1848 - acc: 0.8969 - val_loss: 0.2353 - val_acc: 0.8829\n",
            "Epoch 17/50\n",
            "48000/48000 [==============================] - 17s 350us/step - loss: 0.1785 - acc: 0.8979 - val_loss: 0.2231 - val_acc: 0.8921\n",
            "Epoch 18/50\n",
            "48000/48000 [==============================] - 17s 352us/step - loss: 0.1778 - acc: 0.8966 - val_loss: 0.2372 - val_acc: 0.8892\n",
            "Epoch 19/50\n",
            "48000/48000 [==============================] - 17s 350us/step - loss: 0.1745 - acc: 0.8996 - val_loss: 0.2268 - val_acc: 0.8936\n",
            "Epoch 20/50\n",
            "48000/48000 [==============================] - 17s 354us/step - loss: 0.1750 - acc: 0.8985 - val_loss: 0.2267 - val_acc: 0.8911\n",
            "Epoch 21/50\n",
            "48000/48000 [==============================] - 17s 351us/step - loss: 0.1751 - acc: 0.8991 - val_loss: 0.2352 - val_acc: 0.8897\n",
            "Epoch 22/50\n",
            "48000/48000 [==============================] - 17s 349us/step - loss: 0.1411 - acc: 0.9321 - val_loss: 0.1445 - val_acc: 0.9698\n",
            "Epoch 23/50\n",
            "48000/48000 [==============================] - 17s 347us/step - loss: 0.0651 - acc: 0.9844 - val_loss: 0.1062 - val_acc: 0.9815\n",
            "Epoch 24/50\n",
            "48000/48000 [==============================] - 17s 345us/step - loss: 0.0538 - acc: 0.9866 - val_loss: 0.1152 - val_acc: 0.9793\n",
            "Epoch 25/50\n",
            "48000/48000 [==============================] - 16s 335us/step - loss: 0.0449 - acc: 0.9891 - val_loss: 0.1113 - val_acc: 0.9822\n",
            "Epoch 26/50\n",
            "48000/48000 [==============================] - 16s 335us/step - loss: 0.0529 - acc: 0.9875 - val_loss: 0.1331 - val_acc: 0.9775\n",
            "Epoch 27/50\n",
            "48000/48000 [==============================] - 16s 332us/step - loss: 0.0469 - acc: 0.9890 - val_loss: 0.1020 - val_acc: 0.9817\n",
            "Epoch 28/50\n",
            "48000/48000 [==============================] - 16s 330us/step - loss: 0.0396 - acc: 0.9910 - val_loss: 0.1252 - val_acc: 0.9805\n",
            "Epoch 29/50\n",
            "48000/48000 [==============================] - 16s 327us/step - loss: 0.0466 - acc: 0.9889 - val_loss: 0.1055 - val_acc: 0.9818\n",
            "Epoch 30/50\n",
            "48000/48000 [==============================] - 16s 332us/step - loss: 0.0399 - acc: 0.9910 - val_loss: 0.1326 - val_acc: 0.9776\n",
            "Epoch 31/50\n",
            "48000/48000 [==============================] - 17s 350us/step - loss: 0.0430 - acc: 0.9902 - val_loss: 0.1113 - val_acc: 0.9823\n",
            "Epoch 32/50\n",
            "48000/48000 [==============================] - 16s 332us/step - loss: 0.0340 - acc: 0.9920 - val_loss: 0.1195 - val_acc: 0.9810\n",
            "Epoch 33/50\n",
            "48000/48000 [==============================] - 16s 330us/step - loss: 0.0268 - acc: 0.9939 - val_loss: 0.1064 - val_acc: 0.9840\n",
            "Epoch 34/50\n",
            "48000/48000 [==============================] - 16s 332us/step - loss: 0.0385 - acc: 0.9912 - val_loss: 0.1109 - val_acc: 0.9814\n",
            "Epoch 35/50\n",
            "48000/48000 [==============================] - 16s 332us/step - loss: 0.0390 - acc: 0.9915 - val_loss: 0.1127 - val_acc: 0.9810\n",
            "Epoch 36/50\n",
            "48000/48000 [==============================] - 16s 333us/step - loss: 0.0285 - acc: 0.9930 - val_loss: 0.1161 - val_acc: 0.9820\n",
            "Epoch 37/50\n",
            "48000/48000 [==============================] - 16s 329us/step - loss: 0.0258 - acc: 0.9941 - val_loss: 0.1227 - val_acc: 0.9820\n",
            "Epoch 38/50\n",
            "48000/48000 [==============================] - 16s 332us/step - loss: 0.0222 - acc: 0.9949 - val_loss: 0.1276 - val_acc: 0.9820\n",
            "Epoch 39/50\n",
            "48000/48000 [==============================] - 16s 332us/step - loss: 0.0220 - acc: 0.9950 - val_loss: 0.1318 - val_acc: 0.9801\n",
            "Epoch 40/50\n",
            "48000/48000 [==============================] - 16s 333us/step - loss: 0.0215 - acc: 0.9952 - val_loss: 0.1340 - val_acc: 0.9810\n",
            "Epoch 41/50\n",
            "48000/48000 [==============================] - 16s 330us/step - loss: 0.0282 - acc: 0.9936 - val_loss: 0.1142 - val_acc: 0.9823\n",
            "Epoch 42/50\n",
            "19520/48000 [===========>..................] - ETA: 8s - loss: 0.0222 - acc: 0.9953"
          ],
          "name": "stdout"
        },
        {
          "output_type": "error",
          "ename": "KeyboardInterrupt",
          "evalue": "ignored",
          "traceback": [
            "\u001b[0;31m---------------------------------------------------------------------------\u001b[0m",
            "\u001b[0;31mKeyboardInterrupt\u001b[0m                         Traceback (most recent call last)",
            "\u001b[0;32m<ipython-input-15-e5b58bb4eae7>\u001b[0m in \u001b[0;36m<module>\u001b[0;34m()\u001b[0m\n\u001b[0;32m----> 1\u001b[0;31m \u001b[0mmodel\u001b[0m\u001b[0;34m.\u001b[0m\u001b[0mfit\u001b[0m\u001b[0;34m(\u001b[0m\u001b[0mx_train\u001b[0m\u001b[0;34m,\u001b[0m \u001b[0my_train\u001b[0m\u001b[0;34m,\u001b[0m \u001b[0mvalidation_split\u001b[0m\u001b[0;34m=\u001b[0m\u001b[0;36m0.2\u001b[0m\u001b[0;34m,\u001b[0m \u001b[0mepochs\u001b[0m\u001b[0;34m=\u001b[0m\u001b[0;36m50\u001b[0m\u001b[0;34m,\u001b[0m \u001b[0mcallbacks\u001b[0m\u001b[0;34m=\u001b[0m\u001b[0;34m[\u001b[0m\u001b[0mTensorBoardColabCallback\u001b[0m\u001b[0;34m(\u001b[0m\u001b[0mtbc\u001b[0m\u001b[0;34m)\u001b[0m\u001b[0;34m]\u001b[0m\u001b[0;34m)\u001b[0m\u001b[0;34m\u001b[0m\u001b[0m\n\u001b[0m",
            "\u001b[0;32m/usr/local/lib/python3.6/dist-packages/keras/engine/training.py\u001b[0m in \u001b[0;36mfit\u001b[0;34m(self, x, y, batch_size, epochs, verbose, callbacks, validation_split, validation_data, shuffle, class_weight, sample_weight, initial_epoch, steps_per_epoch, validation_steps, **kwargs)\u001b[0m\n\u001b[1;32m   1037\u001b[0m                                         \u001b[0minitial_epoch\u001b[0m\u001b[0;34m=\u001b[0m\u001b[0minitial_epoch\u001b[0m\u001b[0;34m,\u001b[0m\u001b[0;34m\u001b[0m\u001b[0m\n\u001b[1;32m   1038\u001b[0m                                         \u001b[0msteps_per_epoch\u001b[0m\u001b[0;34m=\u001b[0m\u001b[0msteps_per_epoch\u001b[0m\u001b[0;34m,\u001b[0m\u001b[0;34m\u001b[0m\u001b[0m\n\u001b[0;32m-> 1039\u001b[0;31m                                         validation_steps=validation_steps)\n\u001b[0m\u001b[1;32m   1040\u001b[0m \u001b[0;34m\u001b[0m\u001b[0m\n\u001b[1;32m   1041\u001b[0m     def evaluate(self, x=None, y=None,\n",
            "\u001b[0;32m/usr/local/lib/python3.6/dist-packages/keras/engine/training_arrays.py\u001b[0m in \u001b[0;36mfit_loop\u001b[0;34m(model, f, ins, out_labels, batch_size, epochs, verbose, callbacks, val_f, val_ins, shuffle, callback_metrics, initial_epoch, steps_per_epoch, validation_steps)\u001b[0m\n\u001b[1;32m    197\u001b[0m                     \u001b[0mins_batch\u001b[0m\u001b[0;34m[\u001b[0m\u001b[0mi\u001b[0m\u001b[0;34m]\u001b[0m \u001b[0;34m=\u001b[0m \u001b[0mins_batch\u001b[0m\u001b[0;34m[\u001b[0m\u001b[0mi\u001b[0m\u001b[0;34m]\u001b[0m\u001b[0;34m.\u001b[0m\u001b[0mtoarray\u001b[0m\u001b[0;34m(\u001b[0m\u001b[0;34m)\u001b[0m\u001b[0;34m\u001b[0m\u001b[0m\n\u001b[1;32m    198\u001b[0m \u001b[0;34m\u001b[0m\u001b[0m\n\u001b[0;32m--> 199\u001b[0;31m                 \u001b[0mouts\u001b[0m \u001b[0;34m=\u001b[0m \u001b[0mf\u001b[0m\u001b[0;34m(\u001b[0m\u001b[0mins_batch\u001b[0m\u001b[0;34m)\u001b[0m\u001b[0;34m\u001b[0m\u001b[0m\n\u001b[0m\u001b[1;32m    200\u001b[0m                 \u001b[0mouts\u001b[0m \u001b[0;34m=\u001b[0m \u001b[0mto_list\u001b[0m\u001b[0;34m(\u001b[0m\u001b[0mouts\u001b[0m\u001b[0;34m)\u001b[0m\u001b[0;34m\u001b[0m\u001b[0m\n\u001b[1;32m    201\u001b[0m                 \u001b[0;32mfor\u001b[0m \u001b[0ml\u001b[0m\u001b[0;34m,\u001b[0m \u001b[0mo\u001b[0m \u001b[0;32min\u001b[0m \u001b[0mzip\u001b[0m\u001b[0;34m(\u001b[0m\u001b[0mout_labels\u001b[0m\u001b[0;34m,\u001b[0m \u001b[0mouts\u001b[0m\u001b[0;34m)\u001b[0m\u001b[0;34m:\u001b[0m\u001b[0;34m\u001b[0m\u001b[0m\n",
            "\u001b[0;32m/usr/local/lib/python3.6/dist-packages/keras/backend/tensorflow_backend.py\u001b[0m in \u001b[0;36m__call__\u001b[0;34m(self, inputs)\u001b[0m\n\u001b[1;32m   2713\u001b[0m                 \u001b[0;32mreturn\u001b[0m \u001b[0mself\u001b[0m\u001b[0;34m.\u001b[0m\u001b[0m_legacy_call\u001b[0m\u001b[0;34m(\u001b[0m\u001b[0minputs\u001b[0m\u001b[0;34m)\u001b[0m\u001b[0;34m\u001b[0m\u001b[0m\n\u001b[1;32m   2714\u001b[0m \u001b[0;34m\u001b[0m\u001b[0m\n\u001b[0;32m-> 2715\u001b[0;31m             \u001b[0;32mreturn\u001b[0m \u001b[0mself\u001b[0m\u001b[0;34m.\u001b[0m\u001b[0m_call\u001b[0m\u001b[0;34m(\u001b[0m\u001b[0minputs\u001b[0m\u001b[0;34m)\u001b[0m\u001b[0;34m\u001b[0m\u001b[0m\n\u001b[0m\u001b[1;32m   2716\u001b[0m         \u001b[0;32melse\u001b[0m\u001b[0;34m:\u001b[0m\u001b[0;34m\u001b[0m\u001b[0m\n\u001b[1;32m   2717\u001b[0m             \u001b[0;32mif\u001b[0m \u001b[0mpy_any\u001b[0m\u001b[0;34m(\u001b[0m\u001b[0mis_tensor\u001b[0m\u001b[0;34m(\u001b[0m\u001b[0mx\u001b[0m\u001b[0;34m)\u001b[0m \u001b[0;32mfor\u001b[0m \u001b[0mx\u001b[0m \u001b[0;32min\u001b[0m \u001b[0minputs\u001b[0m\u001b[0;34m)\u001b[0m\u001b[0;34m:\u001b[0m\u001b[0;34m\u001b[0m\u001b[0m\n",
            "\u001b[0;32m/usr/local/lib/python3.6/dist-packages/keras/backend/tensorflow_backend.py\u001b[0m in \u001b[0;36m_call\u001b[0;34m(self, inputs)\u001b[0m\n\u001b[1;32m   2673\u001b[0m             \u001b[0mfetched\u001b[0m \u001b[0;34m=\u001b[0m \u001b[0mself\u001b[0m\u001b[0;34m.\u001b[0m\u001b[0m_callable_fn\u001b[0m\u001b[0;34m(\u001b[0m\u001b[0;34m*\u001b[0m\u001b[0marray_vals\u001b[0m\u001b[0;34m,\u001b[0m \u001b[0mrun_metadata\u001b[0m\u001b[0;34m=\u001b[0m\u001b[0mself\u001b[0m\u001b[0;34m.\u001b[0m\u001b[0mrun_metadata\u001b[0m\u001b[0;34m)\u001b[0m\u001b[0;34m\u001b[0m\u001b[0m\n\u001b[1;32m   2674\u001b[0m         \u001b[0;32melse\u001b[0m\u001b[0;34m:\u001b[0m\u001b[0;34m\u001b[0m\u001b[0m\n\u001b[0;32m-> 2675\u001b[0;31m             \u001b[0mfetched\u001b[0m \u001b[0;34m=\u001b[0m \u001b[0mself\u001b[0m\u001b[0;34m.\u001b[0m\u001b[0m_callable_fn\u001b[0m\u001b[0;34m(\u001b[0m\u001b[0;34m*\u001b[0m\u001b[0marray_vals\u001b[0m\u001b[0;34m)\u001b[0m\u001b[0;34m\u001b[0m\u001b[0m\n\u001b[0m\u001b[1;32m   2676\u001b[0m         \u001b[0;32mreturn\u001b[0m \u001b[0mfetched\u001b[0m\u001b[0;34m[\u001b[0m\u001b[0;34m:\u001b[0m\u001b[0mlen\u001b[0m\u001b[0;34m(\u001b[0m\u001b[0mself\u001b[0m\u001b[0;34m.\u001b[0m\u001b[0moutputs\u001b[0m\u001b[0;34m)\u001b[0m\u001b[0;34m]\u001b[0m\u001b[0;34m\u001b[0m\u001b[0m\n\u001b[1;32m   2677\u001b[0m \u001b[0;34m\u001b[0m\u001b[0m\n",
            "\u001b[0;32m/usr/local/lib/python3.6/dist-packages/tensorflow/python/client/session.py\u001b[0m in \u001b[0;36m__call__\u001b[0;34m(self, *args, **kwargs)\u001b[0m\n\u001b[1;32m   1437\u001b[0m           ret = tf_session.TF_SessionRunCallable(\n\u001b[1;32m   1438\u001b[0m               \u001b[0mself\u001b[0m\u001b[0;34m.\u001b[0m\u001b[0m_session\u001b[0m\u001b[0;34m.\u001b[0m\u001b[0m_session\u001b[0m\u001b[0;34m,\u001b[0m \u001b[0mself\u001b[0m\u001b[0;34m.\u001b[0m\u001b[0m_handle\u001b[0m\u001b[0;34m,\u001b[0m \u001b[0margs\u001b[0m\u001b[0;34m,\u001b[0m \u001b[0mstatus\u001b[0m\u001b[0;34m,\u001b[0m\u001b[0;34m\u001b[0m\u001b[0m\n\u001b[0;32m-> 1439\u001b[0;31m               run_metadata_ptr)\n\u001b[0m\u001b[1;32m   1440\u001b[0m         \u001b[0;32mif\u001b[0m \u001b[0mrun_metadata\u001b[0m\u001b[0;34m:\u001b[0m\u001b[0;34m\u001b[0m\u001b[0m\n\u001b[1;32m   1441\u001b[0m           \u001b[0mproto_data\u001b[0m \u001b[0;34m=\u001b[0m \u001b[0mtf_session\u001b[0m\u001b[0;34m.\u001b[0m\u001b[0mTF_GetBuffer\u001b[0m\u001b[0;34m(\u001b[0m\u001b[0mrun_metadata_ptr\u001b[0m\u001b[0;34m)\u001b[0m\u001b[0;34m\u001b[0m\u001b[0m\n",
            "\u001b[0;31mKeyboardInterrupt\u001b[0m: "
          ]
        }
      ]
    },
    {
      "metadata": {
        "id": "R8AZsHXq0DAm",
        "colab_type": "code",
        "colab": {}
      },
      "cell_type": "code",
      "source": [
        "import pickle as pkl"
      ],
      "execution_count": 0,
      "outputs": []
    },
    {
      "metadata": {
        "id": "SXBMUUUp335l",
        "colab_type": "code",
        "colab": {}
      },
      "cell_type": "code",
      "source": [
        "pkl.dump({\"model\": model}, open(\"model.pkl\", \"wb\"))"
      ],
      "execution_count": 0,
      "outputs": []
    },
    {
      "metadata": {
        "id": "NmrNPDS4-19N",
        "colab_type": "code",
        "colab": {}
      },
      "cell_type": "code",
      "source": [
        "import numpy as np "
      ],
      "execution_count": 0,
      "outputs": []
    },
    {
      "metadata": {
        "id": "JH3hbFTo4XWC",
        "colab_type": "code",
        "colab": {
          "base_uri": "https://localhost:8080/",
          "height": 384
        },
        "outputId": "81d6c3ff-80d6-4d88-a16d-4e1ca14ac883"
      },
      "cell_type": "code",
      "source": [
        "test_image = x_test[786]\n",
        "print(np.argmax(model.predict(test_image.reshape(1, test_image.shape[0], test_image.shape[1], 1))))\n",
        "plt.imshow(test_image)"
      ],
      "execution_count": 31,
      "outputs": [
        {
          "output_type": "stream",
          "text": [
            "6\n"
          ],
          "name": "stdout"
        },
        {
          "output_type": "execute_result",
          "data": {
            "text/plain": [
              "<matplotlib.image.AxesImage at 0x7f40dedc61d0>"
            ]
          },
          "metadata": {
            "tags": []
          },
          "execution_count": 31
        },
        {
          "output_type": "display_data",
          "data": {
            "image/png": "[encoded data removed]",
            "text/plain": [
              "<matplotlib.figure.Figure at 0x7f40dee94e10>"
            ]
          },
          "metadata": {
            "tags": []
          }
        }
      ]
    },
    {
      "metadata": {
        "id": "jp-zhCYz90sd",
        "colab_type": "code",
        "colab": {}
      },
      "cell_type": "code",
      "source": [
        ""
      ],
      "execution_count": 0,
      "outputs": []
    }
  ]
}