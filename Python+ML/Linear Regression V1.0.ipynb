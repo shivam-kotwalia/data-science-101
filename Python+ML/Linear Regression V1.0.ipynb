{
 "cells": [
  {
   "cell_type": "code",
   "execution_count": 1,
   "metadata": {},
   "outputs": [],
   "source": [
    "import matplotlib.pyplot as plt\n",
    "import seaborn as sns; sns.set()\n",
    "import numpy as np\n",
    "%matplotlib inline "
   ]
  },
  {
   "cell_type": "code",
   "execution_count": 2,
   "metadata": {},
   "outputs": [],
   "source": [
    "# y = ax + b\n",
    "# a = 2\n",
    "# b = -5"
   ]
  },
  {
   "cell_type": "code",
   "execution_count": 3,
   "metadata": {},
   "outputs": [],
   "source": [
    "rng = np.random.RandomState(1)"
   ]
  },
  {
   "cell_type": "code",
   "execution_count": 4,
   "metadata": {},
   "outputs": [
    {
     "name": "stdout",
     "output_type": "stream",
     "text": [
      "[  4.17022005e+00   7.20324493e+00   1.14374817e-03   3.02332573e+00\n",
      "   1.46755891e+00   9.23385948e-01   1.86260211e+00   3.45560727e+00\n",
      "   3.96767474e+00   5.38816734e+00   4.19194514e+00   6.85219500e+00\n",
      "   2.04452250e+00   8.78117436e+00   2.73875932e-01   6.70467510e+00\n",
      "   4.17304802e+00   5.58689828e+00   1.40386939e+00   1.98101489e+00\n",
      "   8.00744569e+00   9.68261576e+00   3.13424178e+00   6.92322616e+00\n",
      "   8.76389152e+00   8.94606664e+00   8.50442114e-01   3.90547832e-01\n",
      "   1.69830420e+00   8.78142503e+00   9.83468338e-01   4.21107625e+00\n",
      "   9.57889530e+00   5.33165285e+00   6.91877114e+00   3.15515631e+00\n",
      "   6.86500928e+00   8.34625672e+00   1.82882773e-01   7.50144315e+00\n",
      "   9.88861089e+00   7.48165654e+00   2.80443992e+00   7.89279328e+00\n",
      "   1.03226007e+00   4.47893526e+00   9.08595503e+00   2.93614148e+00\n",
      "   2.87775339e+00   1.30028572e+00]\n"
     ]
    }
   ],
   "source": [
    "x = 10 * rng.rand(50) \n",
    "print(x)"
   ]
  },
  {
   "cell_type": "code",
   "execution_count": 5,
   "metadata": {},
   "outputs": [
    {
     "name": "stdout",
     "output_type": "stream",
     "text": [
      "[  2.65326739   8.56128423  -5.66895863   1.03398685  -3.18219253\n",
      "  -2.91881241   0.3850064    2.6532587    2.74351393   4.88870572\n",
      "   2.63673199  10.39684461  -0.86014725  11.92535308  -4.26133265\n",
      "  10.50960534   3.466255     6.79099968  -1.89209091  -1.39022006\n",
      "   9.87237318  14.01588879   1.05958933   9.4330755   13.36676646\n",
      "  13.82323535  -3.01352845  -3.33376317  -2.35778955  13.81571822\n",
      "  -2.5201335    3.12405966  14.64630875   5.58773399   9.96917167\n",
      "   2.83012944  10.91559396  10.2960171   -6.07834826   9.49842044\n",
      "  14.93725885  10.83948201   0.92451479   8.76338535  -3.24168388\n",
      "   4.78584517  13.4020048    1.63429415   0.53317863  -2.60018663]\n"
     ]
    }
   ],
   "source": [
    "m0 = 2\n",
    "c0 = -5 \n",
    "y = m0 * x + c0 + rng.randn(50)\n",
    "print(y)"
   ]
  },
  {
   "cell_type": "code",
   "execution_count": 6,
   "metadata": {},
   "outputs": [
    {
     "data": {
      "text/plain": [
       "<matplotlib.collections.PathCollection at 0x1c2257ffeb8>"
      ]
     },
     "execution_count": 6,
     "metadata": {},
     "output_type": "execute_result"
    },
    {
     "data": {
      "image/png": "[encoded data removed]",
      "text/plain": [
       "<matplotlib.figure.Figure at 0x1c221c8e080>"
      ]
     },
     "metadata": {},
     "output_type": "display_data"
    }
   ],
   "source": [
    "plt.scatter(x, y)"
   ]
  },
  {
   "cell_type": "code",
   "execution_count": 7,
   "metadata": {},
   "outputs": [],
   "source": [
    "from sklearn.linear_model import LinearRegression \n",
    "model = LinearRegression(fit_intercept=True)"
   ]
  },
  {
   "cell_type": "code",
   "execution_count": 8,
   "metadata": {},
   "outputs": [
    {
     "data": {
      "text/plain": [
       "LinearRegression(copy_X=True, fit_intercept=True, n_jobs=1, normalize=False)"
      ]
     },
     "execution_count": 8,
     "metadata": {},
     "output_type": "execute_result"
    }
   ],
   "source": [
    "model.fit(x[:, np.newaxis], y)"
   ]
  },
  {
   "cell_type": "code",
   "execution_count": 9,
   "metadata": {},
   "outputs": [],
   "source": [
    "xfit = np.linspace(0, 10, 1000)\n",
    "yfit = model.predict(xfit[:, np.newaxis])"
   ]
  },
  {
   "cell_type": "code",
   "execution_count": 10,
   "metadata": {},
   "outputs": [
    {
     "data": {
      "text/plain": [
       "[<matplotlib.lines.Line2D at 0x1c225f32ba8>]"
      ]
     },
     "execution_count": 10,
     "metadata": {},
     "output_type": "execute_result"
    },
    {
     "data": {
      "image/png": "[encoded data removed]",
      "text/plain": [
       "<matplotlib.figure.Figure at 0x1c225f32b38>"
      ]
     },
     "metadata": {},
     "output_type": "display_data"
    }
   ],
   "source": [
    "plt.scatter(x,y)\n",
    "plt.plot(xfit, yfit)"
   ]
  },
  {
   "cell_type": "code",
   "execution_count": 11,
   "metadata": {},
   "outputs": [
    {
     "name": "stdout",
     "output_type": "stream",
     "text": [
      "Model slope:     2.02720881036\n",
      "Model intercept: -4.99857708555\n"
     ]
    }
   ],
   "source": [
    "print(\"Model slope:    \", model.coef_[0])\n",
    "print(\"Model intercept:\", model.intercept_)"
   ]
  },
  {
   "cell_type": "code",
   "execution_count": 12,
   "metadata": {},
   "outputs": [
    {
     "data": {
      "text/plain": [
       "(50, 50)"
      ]
     },
     "execution_count": 12,
     "metadata": {},
     "output_type": "execute_result"
    }
   ],
   "source": [
    "len(y), len(x)"
   ]
  },
  {
   "cell_type": "markdown",
   "metadata": {},
   "source": [
    "Equtaion is y = mx + b "
   ]
  },
  {
   "cell_type": "markdown",
   "metadata": {},
   "source": [
    "m = r(*Sy/Sx) <br/>\n",
    "r is Pearson Correlation Coeff. <br/>\n",
    "r = Sum(x-xm)(y - ym)/ ((Sum(x-xm)^2 * Sum(y - ym)^2)^0.5\n",
    "\n",
    "xm - is mean of x <br/>\n",
    "ym - is mean of y <br/>\n",
    "Pearson Correlation can be between -1 to 1 <br/>\n",
    "+ve means that x increases y increseas <br/>\n",
    "-ve means that x increases y decreases <br/>\n",
    "something above 0.6 means that they have quite good corelation"
   ]
  },
  {
   "cell_type": "markdown",
   "metadata": {},
   "source": [
    "Sy = ((Sum(y - ym)^2)/(n-1))^0.5 <br/>\n",
    "Sx = ((Sum(x - xm)^2)/(n-1))^0.5"
   ]
  },
  {
   "cell_type": "markdown",
   "metadata": {},
   "source": [
    "c = ym - m * xm<br/>\n",
    "xm - is mean of x <br/>\n",
    "ym - is mean of y <br/>\n",
    "m - slope that we calculated earlier "
   ]
  },
  {
   "cell_type": "markdown",
   "metadata": {},
   "source": [
    "<img src=\"LR Formula.png\"/>"
   ]
  },
  {
   "cell_type": "markdown",
   "metadata": {},
   "source": [
    "x | y | (x-xm) | (y-ym) | (x-xm)(y-ym) | (x-xm)^2 | (y-ym)^2  "
   ]
  },
  {
   "cell_type": "code",
   "execution_count": 13,
   "metadata": {},
   "outputs": [
    {
     "name": "stdout",
     "output_type": "stream",
     "text": [
      "ym 4.46799341249\n",
      "xm 4.66975599635\n"
     ]
    }
   ],
   "source": [
    "ym = y.sum()/y.shape[0]\n",
    "xm = x.sum()/x.shape[0]\n",
    "print(\"ym\", ym)\n",
    "print(\"xm\", xm)"
   ]
  },
  {
   "cell_type": "code",
   "execution_count": null,
   "metadata": {},
   "outputs": [],
   "source": []
  },
  {
   "cell_type": "code",
   "execution_count": 14,
   "metadata": {},
   "outputs": [],
   "source": [
    "# big_matrix = np.zeros((x.shape[0],7))"
   ]
  },
  {
   "cell_type": "code",
   "execution_count": 15,
   "metadata": {},
   "outputs": [],
   "source": [
    "# big_matrix[:, 0] = x\n",
    "# big_matrix[:, 1] = y"
   ]
  },
  {
   "cell_type": "code",
   "execution_count": 16,
   "metadata": {},
   "outputs": [],
   "source": [
    "# big_matrix[:, 2] = x - xm\n",
    "# big_matrix[:, 3] = y = ym"
   ]
  },
  {
   "cell_type": "code",
   "execution_count": 17,
   "metadata": {},
   "outputs": [],
   "source": [
    "# big_matrix[:, 4] = big_matrix[:, 2] * big_matrix[:, 3] "
   ]
  },
  {
   "cell_type": "code",
   "execution_count": 18,
   "metadata": {},
   "outputs": [],
   "source": [
    "# big_matrix[:, 5] = big_matrix[:, 2] * big_matrix[:, 2] \n",
    "# big_matrix[:, 6] = big_matrix[:, 3] * big_matrix[:, 3]"
   ]
  },
  {
   "cell_type": "code",
   "execution_count": 19,
   "metadata": {},
   "outputs": [],
   "source": [
    "# big_matrix[:2,]"
   ]
  },
  {
   "cell_type": "code",
   "execution_count": null,
   "metadata": {},
   "outputs": [],
   "source": []
  },
  {
   "cell_type": "code",
   "execution_count": 20,
   "metadata": {},
   "outputs": [
    {
     "name": "stdout",
     "output_type": "stream",
     "text": [
      "0.98948474518\n"
     ]
    }
   ],
   "source": [
    "r = ((x - xm) * (y -ym)).sum() / np.sqrt(((x - xm)*(x - xm)).sum() * ((y - ym)*(y - ym)).sum())\n",
    "print(r)"
   ]
  },
  {
   "cell_type": "code",
   "execution_count": 21,
   "metadata": {},
   "outputs": [
    {
     "name": "stdout",
     "output_type": "stream",
     "text": [
      "6.31790863601\n"
     ]
    }
   ],
   "source": [
    "Sy = np.sqrt(((y - ym) * (y - ym)).sum()/ (y.shape[0]-1))\n",
    "print(Sy)"
   ]
  },
  {
   "cell_type": "code",
   "execution_count": 22,
   "metadata": {},
   "outputs": [
    {
     "name": "stdout",
     "output_type": "stream",
     "text": [
      "3.08378406053\n"
     ]
    }
   ],
   "source": [
    "Sx = np.sqrt(((x - xm) * (x - xm)).sum()/ (x.shape[0]-1))\n",
    "print(Sx)"
   ]
  },
  {
   "cell_type": "code",
   "execution_count": 23,
   "metadata": {},
   "outputs": [
    {
     "name": "stdout",
     "output_type": "stream",
     "text": [
      "2.02720881036\n"
     ]
    }
   ],
   "source": [
    "m = r * (Sy/Sx)\n",
    "print(m)"
   ]
  },
  {
   "cell_type": "markdown",
   "metadata": {},
   "source": [
    "c = y - m*x <br/>\n",
    "y - mean of y <br/>\n",
    "x - mean of x  <br/>"
   ]
  },
  {
   "cell_type": "code",
   "execution_count": 24,
   "metadata": {},
   "outputs": [
    {
     "data": {
      "text/plain": [
       "-4.9985770855532055"
      ]
     },
     "execution_count": 24,
     "metadata": {},
     "output_type": "execute_result"
    }
   ],
   "source": [
    "((y).sum()/ y.shape[0]) - m * ((x).sum()/ x.shape[0])"
   ]
  },
  {
   "cell_type": "code",
   "execution_count": null,
   "metadata": {},
   "outputs": [],
   "source": []
  },
  {
   "cell_type": "code",
   "execution_count": null,
   "metadata": {},
   "outputs": [],
   "source": []
  },
  {
   "cell_type": "code",
   "execution_count": null,
   "metadata": {},
   "outputs": [],
   "source": []
  },
  {
   "cell_type": "code",
   "execution_count": null,
   "metadata": {},
   "outputs": [],
   "source": []
  },
  {
   "cell_type": "code",
   "execution_count": null,
   "metadata": {},
   "outputs": [],
   "source": []
  },
  {
   "cell_type": "code",
   "execution_count": null,
   "metadata": {},
   "outputs": [],
   "source": []
  },
  {
   "cell_type": "code",
   "execution_count": null,
   "metadata": {},
   "outputs": [],
   "source": []
  },
  {
   "cell_type": "markdown",
   "metadata": {},
   "source": [
    "### Check if Quardratic can be solved with Linear Regression "
   ]
  },
  {
   "cell_type": "code",
   "execution_count": 25,
   "metadata": {},
   "outputs": [
    {
     "name": "stdout",
     "output_type": "stream",
     "text": [
      "[ 9.32595463  6.96818161  0.66000173  7.55463053  7.53876188  9.23024536\n",
      "  7.11524759  1.24270962  0.19880134  0.26210987  0.28306488  2.46211068\n",
      "  8.60027949  5.38831064  5.52821979  8.42030892  1.24173315  2.79183679\n",
      "  5.85759271  9.69595748  5.61030219  0.18647289  8.00632673  2.32974274\n",
      "  8.07105196  3.87860644  8.63541855  7.47121643  5.56240234  1.36455226\n",
      "  0.5991769   1.21343456  0.44551879  1.07494129  2.25709339  7.1298898\n",
      "  5.59716982  0.1255598   0.7197428   9.6727633   5.68100462  2.03293235\n",
      "  2.52325745  7.43825854  1.95429481  5.81358927  9.70019989  8.46828801\n",
      "  2.39847759  4.93769714]\n"
     ]
    }
   ],
   "source": [
    "x = 10 * rng.rand(50) \n",
    "print(x)"
   ]
  },
  {
   "cell_type": "code",
   "execution_count": 26,
   "metadata": {},
   "outputs": [
    {
     "name": "stdout",
     "output_type": "stream",
     "text": [
      "[  8.80948475e+01   4.89644556e+01   4.10985324e-01   5.62972808e+01\n",
      "   5.81066867e+01   8.71645311e+01   4.87687663e+01   2.78049123e+00\n",
      "   1.66717273e+00   4.06713280e-01  -1.11914231e+00   6.92533430e+00\n",
      "   7.37838869e+01   2.84299710e+01   2.93311559e+01   7.14521399e+01\n",
      "   2.33470808e+00   7.17082193e+00   3.48319687e+01   9.28672501e+01\n",
      "   3.22773517e+01   8.13394385e-02   6.39146979e+01   5.32595535e+00\n",
      "   6.60107658e+01   1.57939996e+01   7.50999188e+01   5.59567761e+01\n",
      "   3.10181409e+01   2.48038312e+00   5.91507511e-01   2.15497483e+00\n",
      "  -1.11629785e-01  -1.27933898e+00   6.13329516e+00   5.30223083e+01\n",
      "   3.17696744e+01  -8.43899695e-02   3.81584950e-01   9.34432957e+01\n",
      "   3.22912229e+01   3.01079520e+00   5.84973368e+00   5.43306633e+01\n",
      "   4.06806737e+00   3.35011791e+01   9.45890892e+01   7.15371987e+01\n",
      "   6.73902994e+00   2.45943870e+01]\n"
     ]
    }
   ],
   "source": [
    "y = x*x + rng.randn(50)\n",
    "print(y)"
   ]
  },
  {
   "cell_type": "code",
   "execution_count": 30,
   "metadata": {},
   "outputs": [],
   "source": [
    "x = x.reshape(50, 1)\n",
    "y = y.reshape(50,1)"
   ]
  },
  {
   "cell_type": "code",
   "execution_count": 31,
   "metadata": {},
   "outputs": [
    {
     "data": {
      "text/plain": [
       "<matplotlib.collections.PathCollection at 0x1c2267ff390>"
      ]
     },
     "execution_count": 31,
     "metadata": {},
     "output_type": "execute_result"
    },
    {
     "data": {
      "image/png": "[encoded data removed]",
      "text/plain": [
       "<matplotlib.figure.Figure at 0x1c2266479b0>"
      ]
     },
     "metadata": {},
     "output_type": "display_data"
    }
   ],
   "source": [
    "plt.scatter(x, y)"
   ]
  },
  {
   "cell_type": "code",
   "execution_count": 32,
   "metadata": {},
   "outputs": [
    {
     "data": {
      "text/plain": [
       "LinearRegression(copy_X=True, fit_intercept=True, n_jobs=1, normalize=False)"
      ]
     },
     "execution_count": 32,
     "metadata": {},
     "output_type": "execute_result"
    }
   ],
   "source": [
    "model.fit(x,y)"
   ]
  },
  {
   "cell_type": "code",
   "execution_count": 33,
   "metadata": {},
   "outputs": [
    {
     "name": "stdout",
     "output_type": "stream",
     "text": [
      "Model slope:     [ 9.40392075]\n",
      "Model intercept: [-11.43279761]\n"
     ]
    }
   ],
   "source": [
    "print(\"Model slope:    \", model.coef_[0])\n",
    "print(\"Model intercept:\", model.intercept_)"
   ]
  },
  {
   "cell_type": "code",
   "execution_count": 34,
   "metadata": {},
   "outputs": [],
   "source": [
    "xx = rng.rand(50).reshape(50,1)"
   ]
  },
  {
   "cell_type": "code",
   "execution_count": 35,
   "metadata": {},
   "outputs": [],
   "source": [
    "yy = model.coef_[0] * xx + model.intercept_"
   ]
  },
  {
   "cell_type": "code",
   "execution_count": null,
   "metadata": {},
   "outputs": [],
   "source": []
  },
  {
   "cell_type": "code",
   "execution_count": 37,
   "metadata": {},
   "outputs": [
    {
     "data": {
      "text/plain": [
       "<matplotlib.collections.PathCollection at 0x1c226b227b8>"
      ]
     },
     "execution_count": 37,
     "metadata": {},
     "output_type": "execute_result"
    },
    {
     "data": {
      "image/png": "[encoded data removed]",
      "text/plain": [
       "<matplotlib.figure.Figure at 0x1c226b225c0>"
      ]
     },
     "metadata": {},
     "output_type": "display_data"
    }
   ],
   "source": [
    "plt.scatter(xx, yy)\n",
    "plt.scatter(x, y)"
   ]
  },
  {
   "cell_type": "code",
   "execution_count": null,
   "metadata": {},
   "outputs": [],
   "source": []
  },
  {
   "cell_type": "code",
   "execution_count": null,
   "metadata": {},
   "outputs": [],
   "source": []
  },
  {
   "cell_type": "code",
   "execution_count": null,
   "metadata": {},
   "outputs": [],
   "source": []
  },
  {
   "cell_type": "markdown",
   "metadata": {},
   "source": [
    "### Multi Variable "
   ]
  },
  {
   "cell_type": "code",
   "execution_count": 62,
   "metadata": {},
   "outputs": [],
   "source": [
    "x1 = (rng.rand(50)).reshape(50,1)\n",
    "x2 = (rng.rand(50)).reshape(50,1)\n",
    "\n",
    "m1 = -2 \n",
    "m2 = -3 \n",
    "c = 5\n",
    "\n",
    "y = (m1*x1 + m2*x2 + (c + rng.rand(50).reshape(50,1))).reshape(50,1)"
   ]
  },
  {
   "cell_type": "code",
   "execution_count": 63,
   "metadata": {},
   "outputs": [
    {
     "data": {
      "text/plain": [
       "LinearRegression(copy_X=True, fit_intercept=True, n_jobs=1, normalize=False)"
      ]
     },
     "execution_count": 63,
     "metadata": {},
     "output_type": "execute_result"
    }
   ],
   "source": [
    "model.fit(np.concatenate((x1, x2), axis=1), y)"
   ]
  },
  {
   "cell_type": "code",
   "execution_count": 64,
   "metadata": {},
   "outputs": [
    {
     "name": "stdout",
     "output_type": "stream",
     "text": [
      "Model slope:     [-2.02497962 -2.89561006]\n",
      "Model intercept: [ 5.47362794]\n"
     ]
    }
   ],
   "source": [
    "print(\"Model slope:    \", model.coef_[0])\n",
    "print(\"Model intercept:\", model.intercept_)"
   ]
  },
  {
   "cell_type": "code",
   "execution_count": null,
   "metadata": {},
   "outputs": [],
   "source": []
  },
  {
   "cell_type": "code",
   "execution_count": 66,
   "metadata": {},
   "outputs": [
    {
     "data": {
      "text/plain": [
       "<matplotlib.collections.PathCollection at 0x1c226313f98>"
      ]
     },
     "execution_count": 66,
     "metadata": {},
     "output_type": "execute_result"
    },
    {
     "data": {
      "image/png": "[encoded data removed]",
      "text/plain": [
       "<matplotlib.figure.Figure at 0x1c2263138d0>"
      ]
     },
     "metadata": {},
     "output_type": "display_data"
    }
   ],
   "source": [
    "plt.scatter(x1, y)\n",
    "plt.scatter(x2, y)"
   ]
  },
  {
   "cell_type": "code",
   "execution_count": null,
   "metadata": {},
   "outputs": [],
   "source": []
  }
 ],
 "metadata": {
  "kernelspec": {
   "display_name": "Python 3",
   "language": "python",
   "name": "python3"
  },
  "language_info": {
   "codemirror_mode": {
    "name": "ipython",
    "version": 3
   },
   "file_extension": ".py",
   "mimetype": "text/x-python",
   "name": "python",
   "nbconvert_exporter": "python",
   "pygments_lexer": "ipython3",
   "version": "3.6.5"
  }
 },
 "nbformat": 4,
 "nbformat_minor": 2
}
