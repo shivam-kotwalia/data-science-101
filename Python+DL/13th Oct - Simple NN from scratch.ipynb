{
 "cells": [
  {
   "cell_type": "markdown",
   "metadata": {},
   "source": [
    "###  Single value Equation"
   ]
  },
  {
   "cell_type": "code",
   "execution_count": 1,
   "metadata": {},
   "outputs": [],
   "source": [
    "import numpy as np \n",
    "import pandas as pd\n",
    "import matplotlib.pyplot as plt"
   ]
  },
  {
   "cell_type": "raw",
   "metadata": {},
   "source": [
    "y1 = w1x1 + w2x2\n",
    "Question - y = 8x1 + 3x2"
   ]
  },
  {
   "cell_type": "code",
   "execution_count": 2,
   "metadata": {},
   "outputs": [],
   "source": [
    "x1 = 2\n",
    "x2 = 5 \n",
    "y = 31"
   ]
  },
  {
   "cell_type": "raw",
   "metadata": {},
   "source": [
    "Equation of prediction --- y_pred = x1*w1 + x2*w2 "
   ]
  },
  {
   "cell_type": "code",
   "execution_count": 38,
   "metadata": {},
   "outputs": [
    {
     "name": "stdout",
     "output_type": "stream",
     "text": [
      "Value of w1 -  1.76 Value of w2 -  3.9000000000000004\n",
      "Value of w1 -  2.0792 Value of w2 -  4.698\n",
      "Value of w1 -  2.213264 Value of w2 -  5.0331600000000005\n",
      "Value of w1 -  2.26957088 Value of w2 -  5.1739272\n",
      "Value of w1 -  2.2932197696 Value of w2 -  5.233049424\n",
      "Value of w1 -  2.303152303232 Value of w2 -  5.25788075808\n",
      "Value of w1 -  2.3073239673574397 Value of w2 -  5.2683099183936\n",
      "Value of w1 -  2.3090760662901246 Value of w2 -  5.272690165725312\n",
      "Value of w1 -  2.3098119478418524 Value of w2 -  5.274529869604631\n",
      "Value of w1 -  2.310121018093578 Value of w2 -  5.275302545233945\n",
      "Value of w1 -  2.310250827599303 Value of w2 -  5.275627068998257\n",
      "Value of w1 -  2.310305347591707 Value of w2 -  5.275763368979268\n",
      "Value of w1 -  2.310328245988517 Value of w2 -  5.275820614971292\n",
      "Value of w1 -  2.310337863315177 Value of w2 -  5.275844658287943\n",
      "Value of w1 -  2.3103419025923744 Value of w2 -  5.2758547564809355\n",
      "Value of w1 -  2.3103435990887973 Value of w2 -  5.2758589977219925\n",
      "Value of w1 -  2.310344311617295 Value of w2 -  5.275860779043237\n",
      "Value of w1 -  2.310344610879264 Value of w2 -  5.27586152719816\n",
      "Value of w1 -  2.3103447365692906 Value of w2 -  5.275861841423227\n",
      "Value of w1 -  2.310344789359102 Value of w2 -  5.275861973397755\n",
      "Value of w1 -  2.3103448115308227 Value of w2 -  5.275862028827057\n",
      "Value of w1 -  2.3103448208429453 Value of w2 -  5.275862052107364\n",
      "Value of w1 -  2.310344824754037 Value of w2 -  5.275862061885093\n",
      "Value of w1 -  2.3103448263966953 Value of w2 -  5.275862065991739\n",
      "Value of w1 -  2.310344827086612 Value of w2 -  5.27586206771653\n"
     ]
    }
   ],
   "source": [
    "lr = 0.01\n",
    "w1 = 1\n",
    "w2 = 2\n",
    "w1_list = [1]\n",
    "w2_list = [2]\n",
    "dEw1_list = []\n",
    "dEw2_list = []\n",
    "error_list = []\n",
    "for epoch in range(25):\n",
    "    y_pred = w1*x1 + w2*x2 \n",
    "    error = (y-y_pred)**2\n",
    "    error_list.append(error)\n",
    "    dEw1 = 2*(y - y_pred)*(-x1)\n",
    "    dEw2 = 2*(y - y_pred)*(-x2)\n",
    "    \n",
    "    w1 = w1 - lr * dEw1\n",
    "    w2 = w2 - lr * dEw2\n",
    "    w1_list.append(w1)\n",
    "    w2_list.append(w2)\n",
    "    dEw1_list.append(dEw1)\n",
    "    dEw2_list.append(dEw2)\n",
    "    print(\"Value of w1 - \", w1, \"Value of w2 - \", w2)"
   ]
  },
  {
   "cell_type": "raw",
   "metadata": {},
   "source": [
    "error = (y - y_pred)**2\n",
    "error = (y - (w1*x1 + w2*x2))**2\n",
    "dE/dw1 = 2*(y - (w1*x1 + w2*x2))*(0 - x1 - 0)\n",
    "dE/dW1 = 2*(y - (w1*x1 + w2*x2))*(-x1)\n",
    "\n",
    "dE/dw2 = 2*(y - (w1*x1 + w2*x2))*(0 - 0 - x2)\n",
    "dE/dw2 = 2*(y - (w1*x1 + w2*x2))*(-x2)"
   ]
  },
  {
   "cell_type": "code",
   "execution_count": 37,
   "metadata": {},
   "outputs": [
    {
     "data": {
      "text/plain": [
       "30.895708396864"
      ]
     },
     "execution_count": 37,
     "metadata": {},
     "output_type": "execute_result"
    }
   ],
   "source": [
    "w1*x1 + w2*x2"
   ]
  },
  {
   "cell_type": "code",
   "execution_count": 32,
   "metadata": {},
   "outputs": [
    {
     "data": {
      "text/plain": [
       "<matplotlib.legend.Legend at 0x2137d8cfb70>"
      ]
     },
     "execution_count": 32,
     "metadata": {},
     "output_type": "execute_result"
    },
    {
     "data": {
      "image/png": "[encoded data removed]",
      "text/plain": [
       "<Figure size 432x288 with 1 Axes>"
      ]
     },
     "metadata": {},
     "output_type": "display_data"
    }
   ],
   "source": [
    "plt.plot(w1_list, label=\"w1\")\n",
    "plt.plot(dEw1_list, label=\"dEw1\")\n",
    "plt.legend()"
   ]
  },
  {
   "cell_type": "code",
   "execution_count": 33,
   "metadata": {},
   "outputs": [
    {
     "data": {
      "text/plain": [
       "[<matplotlib.lines.Line2D at 0x2137d5ebb00>]"
      ]
     },
     "execution_count": 33,
     "metadata": {},
     "output_type": "execute_result"
    },
    {
     "data": {
      "image/png": "[encoded data removed]",
      "text/plain": [
       "<Figure size 432x288 with 1 Axes>"
      ]
     },
     "metadata": {},
     "output_type": "display_data"
    }
   ],
   "source": [
    "plt.plot(w2_list, label=\"w2\")\n",
    "plt.plot(dEw2_list, label=\"dEw2\")"
   ]
  },
  {
   "cell_type": "code",
   "execution_count": 39,
   "metadata": {},
   "outputs": [
    {
     "data": {
      "text/plain": [
       "[<matplotlib.lines.Line2D at 0x2137e976940>]"
      ]
     },
     "execution_count": 39,
     "metadata": {},
     "output_type": "execute_result"
    },
    {
     "data": {
      "image/png": "[encoded data removed]",
      "text/plain": [
       "<Figure size 432x288 with 1 Axes>"
      ]
     },
     "metadata": {},
     "output_type": "display_data"
    }
   ],
   "source": [
    "plt.plot(error_list)"
   ]
  },
  {
   "cell_type": "code",
   "execution_count": null,
   "metadata": {},
   "outputs": [],
   "source": []
  },
  {
   "cell_type": "code",
   "execution_count": null,
   "metadata": {},
   "outputs": [],
   "source": []
  },
  {
   "cell_type": "code",
   "execution_count": null,
   "metadata": {},
   "outputs": [],
   "source": []
  },
  {
   "cell_type": "code",
   "execution_count": null,
   "metadata": {},
   "outputs": [],
   "source": []
  },
  {
   "cell_type": "code",
   "execution_count": null,
   "metadata": {},
   "outputs": [],
   "source": []
  },
  {
   "cell_type": "code",
   "execution_count": null,
   "metadata": {},
   "outputs": [],
   "source": []
  },
  {
   "cell_type": "markdown",
   "metadata": {},
   "source": [
    "### Multi Varibale Equation"
   ]
  },
  {
   "cell_type": "raw",
   "metadata": {},
   "source": [
    "y = 7x1 + 5x2"
   ]
  },
  {
   "cell_type": "code",
   "execution_count": 259,
   "metadata": {},
   "outputs": [],
   "source": [
    "x1 = np.random.randint(3, 12, 10)\n",
    "x2 = np.random.randint(9, 18, 10)\n",
    "x3 = np.random.randint(12, 20, 10)\n",
    "y = x1*7 + 5*x2 + 4*x3"
   ]
  },
  {
   "cell_type": "code",
   "execution_count": 260,
   "metadata": {},
   "outputs": [
    {
     "data": {
      "text/plain": [
       "10"
      ]
     },
     "execution_count": 260,
     "metadata": {},
     "output_type": "execute_result"
    }
   ],
   "source": [
    "SHAPE = x1.shape[0]\n",
    "SHAPE"
   ]
  },
  {
   "cell_type": "code",
   "execution_count": 261,
   "metadata": {},
   "outputs": [
    {
     "data": {
      "text/plain": [
       "((10,), (10,), (10,))"
      ]
     },
     "execution_count": 261,
     "metadata": {},
     "output_type": "execute_result"
    }
   ],
   "source": [
    "x1.shape, x2.shape, y.shape"
   ]
  },
  {
   "cell_type": "code",
   "execution_count": 262,
   "metadata": {},
   "outputs": [],
   "source": [
    "y = y.reshape(SHAPE,1)"
   ]
  },
  {
   "cell_type": "code",
   "execution_count": 265,
   "metadata": {},
   "outputs": [],
   "source": [
    "X = np.array([x1, x2, x3])"
   ]
  },
  {
   "cell_type": "code",
   "execution_count": 266,
   "metadata": {},
   "outputs": [],
   "source": [
    "X = X.T"
   ]
  },
  {
   "cell_type": "code",
   "execution_count": 267,
   "metadata": {},
   "outputs": [
    {
     "data": {
      "text/plain": [
       "array([[ 4, 13, 12],\n",
       "       [10,  9, 19],\n",
       "       [ 3, 11, 18],\n",
       "       [ 4, 10, 18],\n",
       "       [11, 10, 18],\n",
       "       [ 6, 10, 15],\n",
       "       [ 7, 11, 16],\n",
       "       [ 8, 15, 12],\n",
       "       [ 7, 11, 17],\n",
       "       [ 6, 13, 15]])"
      ]
     },
     "execution_count": 267,
     "metadata": {},
     "output_type": "execute_result"
    }
   ],
   "source": [
    "X"
   ]
  },
  {
   "cell_type": "code",
   "execution_count": 278,
   "metadata": {},
   "outputs": [
    {
     "data": {
      "text/plain": [
       "((10, 3), (10, 1), (3, 1))"
      ]
     },
     "execution_count": 278,
     "metadata": {},
     "output_type": "execute_result"
    }
   ],
   "source": [
    "X.shape, y.shape, w.shape"
   ]
  },
  {
   "cell_type": "code",
   "execution_count": 279,
   "metadata": {},
   "outputs": [
    {
     "data": {
      "text/plain": [
       "array([[5.25591386],\n",
       "       [4.03189503],\n",
       "       [5.400067  ]])"
      ]
     },
     "execution_count": 279,
     "metadata": {},
     "output_type": "execute_result"
    }
   ],
   "source": [
    "w"
   ]
  },
  {
   "cell_type": "code",
   "execution_count": 274,
   "metadata": {},
   "outputs": [
    {
     "name": "stdout",
     "output_type": "stream",
     "text": [
      "value of w1 -  3.8693360600535476 value of w2 -  2.422773612954858 value of w3 -  5.601308269267508\n",
      "value of w1 -  4.217421384377296 value of w2 -  2.9900965429943067 value of w3 -  6.346724209993507\n",
      "value of w1 -  4.287983316513095 value of w2 -  3.093488989734684 value of w3 -  6.426545177199257\n",
      "value of w1 -  4.319239735542903 value of w2 -  3.1311493071291507 value of w3 -  6.412854711658187\n",
      "value of w1 -  4.344771408553689 value of w2 -  3.1592126604725737 value of w3 -  6.386290126751554\n",
      "value of w1 -  4.369313309572024 value of w2 -  3.185596686458128 value of w3 -  6.358214195882788\n",
      "value of w1 -  4.393534282598811 value of w2 -  3.211422176927021 value of w3 -  6.3302247579923625\n",
      "value of w1 -  4.417529999627199 value of w2 -  3.2368517674391413 value of w3 -  6.302543231052812\n",
      "value of w1 -  4.44131533034456 value of w2 -  3.2619129637541735 value of w3 -  6.275197061911766\n",
      "value of w1 -  4.4648937468802785 value of w2 -  3.286614157182132 value of w3 -  6.248186404544633\n",
      "value of w1 -  4.488267107129466 value of w2 -  3.3109609791530428 value of w3 -  6.221507614467093\n",
      "value of w1 -  4.511437033801999 value of w2 -  3.3349586075215227 value of w3 -  6.1951565598659615\n",
      "value of w1 -  4.534405108800826 value of w2 -  3.358612092604512 value of w3 -  6.169129087690091\n",
      "value of w1 -  4.5571729006097375 value of w2 -  3.381926404065545 value of w3 -  6.143421088711459\n",
      "value of w1 -  4.57974196814348 value of w2 -  3.404906438435853 value of w3 -  6.118028506065619\n",
      "value of w1 -  4.602113861281373 value of w2 -  3.4275570210735036 value of w3 -  6.092947335833657\n",
      "value of w1 -  4.62429012093479 value of w2 -  3.4498829073254007 value of w3 -  6.068173626510866\n",
      "value of w1 -  4.6462722790502715 value of w2 -  3.4718887835639998 value of w3 -  6.043703478326935\n",
      "value of w1 -  4.668061858604853 value of w2 -  3.493579268193629 value of w3 -  6.01953304255354\n",
      "value of w1 -  4.689660373601564 value of w2 -  3.514958912639974 value of w3 -  5.99565852081835\n",
      "value of w1 -  4.711069329066193 value of w2 -  3.536032202324827 value of w3 -  5.9720761644280405\n",
      "value of w1 -  4.7322902210454325 value of w2 -  3.5568035576265777 value of w3 -  5.948782273700554\n",
      "value of w1 -  4.75332453660639 value of w2 -  3.577277334826677 value of w3 -  5.925773197306526\n",
      "value of w1 -  4.774173753837449 value of w2 -  3.597457827042308 value of w3 -  5.903045331619766\n",
      "value of w1 -  4.794839341850432 value of w2 -  3.6173492651454398 value of w3 -  5.880595120076656\n",
      "value of w1 -  4.815322760784042 value of w2 -  3.6369558186684863 value of w3 -  5.858419052544354\n",
      "value of w1 -  4.835625461808547 value of w2 -  3.656281596696748 value of w3 -  5.836513664697675\n",
      "value of w1 -  4.855748887131676 value of w2 -  3.6753306487478428 value of w3 -  5.814875537404517\n",
      "value of w1 -  4.875694470005696 value of w2 -  3.694106965638306 value of w3 -  5.793501296119736\n",
      "value of w1 -  4.895463634735645 value of w2 -  3.712614480337555 value of w3 -  5.772387610287329\n",
      "value of w1 -  4.915057796688682 value of w2 -  3.730857068809397 value of w3 -  5.751531192750821\n",
      "value of w1 -  4.934478362304534 value of w2 -  3.7488385508412683 value of w3 -  5.730928799171739\n",
      "value of w1 -  4.953726729107004 value of w2 -  3.766562690861374 value of w3 -  5.710577227456062\n",
      "value of w1 -  4.972804285716516 value of w2 -  3.784033198743919 value of w3 -  5.69047331718853\n",
      "value of w1 -  4.991712411863676 value of w2 -  3.8012537306025918 value of w3 -  5.670613949074706\n",
      "value of w1 -  5.010452478403805 value of w2 -  3.8182278895724777 value of w3 -  5.650996044390687\n",
      "value of w1 -  5.029025847332436 value of w2 -  3.8349592265805734 value of w3 -  5.631616564440345\n",
      "value of w1 -  5.047433871801736 value of w2 -  3.8514512411050643 value of w3 -  5.612472510020011\n",
      "value of w1 -  5.0656778961378395 value of w2 -  3.8677073819235286 value of w3 -  5.593560920890474\n",
      "value of w1 -  5.0837592558590545 value of w2 -  3.8837310478502385 value of w3 -  5.574878875256225\n",
      "value of w1 -  5.10167927769493 value of w2 -  3.8995255884627045 value of w3 -  5.556423489251808\n",
      "value of w1 -  5.119439279606154 value of w2 -  3.9150943048176297 value of w3 -  5.538191916435211\n",
      "value of w1 -  5.137040570805257 value of w2 -  3.9304404501564285 value of w3 -  5.520181347288181\n",
      "value of w1 -  5.154484451778105 value of w2 -  3.945567230600454 value of w3 -  5.502389008723371\n",
      "value of w1 -  5.171772214306153 value of w2 -  3.960477805836095 value of w3 -  5.484812163598224\n",
      "value of w1 -  5.1889051414894425 value of w2 -  3.975175289789883 value of w3 -  5.467448110235498\n",
      "value of w1 -  5.205884507770311 value of w2 -  3.989662751293756 value of w3 -  5.45029418195035\n",
      "value of w1 -  5.222711578957812 value of w2 -  4.00394321474063 value of w3 -  5.433347746583869\n",
      "value of w1 -  5.239387612252797 value of w2 -  4.018019660730408 value of w3 -  5.416606206042982\n",
      "value of w1 -  5.255913856273668 value of w2 -  4.031895026706576 value of w3 -  5.400066995846643\n"
     ]
    },
    {
     "data": {
      "image/png": "[encoded data removed]",
      "text/plain": [
       "<Figure size 432x288 with 1 Axes>"
      ]
     },
     "metadata": {},
     "output_type": "display_data"
    }
   ],
   "source": [
    "lr = 0.0001\n",
    "w = np.array([np.random.randn(1),\n",
    "              np.random.randn(1),\n",
    "              np.random.randn(1)])\n",
    "\n",
    "error_list = []\n",
    "for i in range(50):\n",
    "    y_pred = np.matmul(X, w)\n",
    "    error = (y - y_pred)**2\n",
    "    dEw1 = 2*np.matmul((y - y_pred).T, (-X[:,0].reshape(SHAPE, 1)))\n",
    "    dEw2 = 2*np.matmul((y - y_pred).T, (-X[:,1].reshape(SHAPE, 1)))\n",
    "    dEw3 = 2*np.matmul((y - y_pred).T, (-X[:,2].reshape(SHAPE, 1)))\n",
    "    \n",
    "    w[0][0] = w[0][0] - lr * dEw1\n",
    "    w[1][0] = w[1][0] - lr * dEw2\n",
    "    w[2][0] = w[2][0] - lr * dEw3\n",
    "    \n",
    "    error_list.append(error.mean())\n",
    "    print(\"value of w1 - \", w[0][0], \"value of w2 - \", w[1][0], \"value of w3 - \", w[2][0])\n",
    "    plt.plot(error_list)\n",
    "#print(\"Final Value of w1 - \", w1, \" w2 - \", w2)"
   ]
  },
  {
   "cell_type": "code",
   "execution_count": 284,
   "metadata": {},
   "outputs": [
    {
     "data": {
      "text/plain": [
       "array([[-165.26244021]])"
      ]
     },
     "execution_count": 284,
     "metadata": {},
     "output_type": "execute_result"
    }
   ],
   "source": [
    "dEw1"
   ]
  },
  {
   "cell_type": "code",
   "execution_count": 275,
   "metadata": {},
   "outputs": [
    {
     "data": {
      "text/plain": [
       "array([[138.23909472],\n",
       "       [191.44746672],\n",
       "       [157.31979279],\n",
       "       [158.54381162],\n",
       "       [195.33520861],\n",
       "       [152.85543834],\n",
       "       [167.54331422],\n",
       "       [167.3265402 ],\n",
       "       [172.94338122],\n",
       "       [164.95112342]])"
      ]
     },
     "execution_count": 275,
     "metadata": {},
     "output_type": "execute_result"
    }
   ],
   "source": [
    "np.matmul(X, w)"
   ]
  },
  {
   "cell_type": "code",
   "execution_count": 276,
   "metadata": {},
   "outputs": [
    {
     "data": {
      "text/plain": [
       "array([[141],\n",
       "       [191],\n",
       "       [148],\n",
       "       [150],\n",
       "       [199],\n",
       "       [152],\n",
       "       [168],\n",
       "       [179],\n",
       "       [172],\n",
       "       [167]])"
      ]
     },
     "execution_count": 276,
     "metadata": {},
     "output_type": "execute_result"
    }
   ],
   "source": [
    "y"
   ]
  },
  {
   "cell_type": "code",
   "execution_count": 277,
   "metadata": {},
   "outputs": [
    {
     "data": {
      "text/plain": [
       "array([[ 2.76090528],\n",
       "       [-0.44746672],\n",
       "       [-9.31979279],\n",
       "       [-8.54381162],\n",
       "       [ 3.66479139],\n",
       "       [-0.85543834],\n",
       "       [ 0.45668578],\n",
       "       [11.6734598 ],\n",
       "       [-0.94338122],\n",
       "       [ 2.04887658]])"
      ]
     },
     "execution_count": 277,
     "metadata": {},
     "output_type": "execute_result"
    }
   ],
   "source": [
    "y - np.matmul(X, w)"
   ]
  },
  {
   "cell_type": "code",
   "execution_count": null,
   "metadata": {},
   "outputs": [],
   "source": []
  },
  {
   "cell_type": "code",
   "execution_count": null,
   "metadata": {},
   "outputs": [],
   "source": []
  }
 ],
 "metadata": {
  "kernelspec": {
   "display_name": "Python 3",
   "language": "python",
   "name": "python3"
  },
  "language_info": {
   "codemirror_mode": {
    "name": "ipython",
    "version": 3
   },
   "file_extension": ".py",
   "mimetype": "text/x-python",
   "name": "python",
   "nbconvert_exporter": "python",
   "pygments_lexer": "ipython3",
   "version": "3.6.5"
  }
 },
 "nbformat": 4,
 "nbformat_minor": 2
}
