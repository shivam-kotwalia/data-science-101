{
 "cells": [
  {
   "cell_type": "code",
   "execution_count": 1,
   "metadata": {},
   "outputs": [],
   "source": [
    "import numpy as np\n",
    "import pandas as pd\n",
    "import matplotlib.pyplot as plt"
   ]
  },
  {
   "cell_type": "raw",
   "metadata": {},
   "source": [
    "y = 3*x1 + 4*x2"
   ]
  },
  {
   "cell_type": "code",
   "execution_count": 3,
   "metadata": {},
   "outputs": [],
   "source": [
    "x1 = 3\n",
    "x2 = 2\n",
    "y1 = 17\n",
    "\n",
    "x3 = 2\n",
    "x4 = 3\n",
    "y2 = 18"
   ]
  },
  {
   "cell_type": "raw",
   "metadata": {},
   "source": [
    "y1 = w1*x1 + w2*x2\n",
    "y2 = w1*x3 + w2*x4"
   ]
  },
  {
   "cell_type": "raw",
   "metadata": {},
   "source": [
    "y = [[y1],\n",
    "     [y2]]\n",
    "x = [[x1, x2],\n",
    "     [x3, x4]]\n",
    "w = [[w1],\n",
    "     [w2]]"
   ]
  },
  {
   "cell_type": "code",
   "execution_count": 5,
   "metadata": {},
   "outputs": [],
   "source": [
    "x = np.array([[3,2],\n",
    "             [2,3]])"
   ]
  },
  {
   "cell_type": "code",
   "execution_count": 6,
   "metadata": {},
   "outputs": [],
   "source": [
    "y = np.array([[17],\n",
    "              [18]])"
   ]
  },
  {
   "cell_type": "code",
   "execution_count": 7,
   "metadata": {},
   "outputs": [
    {
     "data": {
      "text/plain": [
       "array([[3, 2],\n",
       "       [2, 3]])"
      ]
     },
     "execution_count": 7,
     "metadata": {},
     "output_type": "execute_result"
    }
   ],
   "source": [
    "x"
   ]
  },
  {
   "cell_type": "code",
   "execution_count": 8,
   "metadata": {},
   "outputs": [
    {
     "data": {
      "text/plain": [
       "array([[17],\n",
       "       [18]])"
      ]
     },
     "execution_count": 8,
     "metadata": {},
     "output_type": "execute_result"
    }
   ],
   "source": [
    "y"
   ]
  },
  {
   "cell_type": "code",
   "execution_count": 15,
   "metadata": {},
   "outputs": [],
   "source": [
    "w = np.array([np.random.randn(1),\n",
    "    np.random.randn(1)])"
   ]
  },
  {
   "cell_type": "code",
   "execution_count": 16,
   "metadata": {},
   "outputs": [
    {
     "data": {
      "text/plain": [
       "array([[-0.08265759],\n",
       "       [ 0.29231501]])"
      ]
     },
     "execution_count": 16,
     "metadata": {},
     "output_type": "execute_result"
    }
   ],
   "source": [
    "w"
   ]
  },
  {
   "cell_type": "code",
   "execution_count": 17,
   "metadata": {},
   "outputs": [
    {
     "data": {
      "text/plain": [
       "((2, 2), (2, 1), (2, 1))"
      ]
     },
     "execution_count": 17,
     "metadata": {},
     "output_type": "execute_result"
    }
   ],
   "source": [
    "x.shape, y.shape, w.shape"
   ]
  },
  {
   "cell_type": "code",
   "execution_count": 23,
   "metadata": {
    "scrolled": false
   },
   "outputs": [
    {
     "name": "stdout",
     "output_type": "stream",
     "text": [
      "Value of w1 -  [7.94]  and w2 -  [3.06]\n",
      "Value of w1 -  [6.8812]  and w2 -  [2.1188]\n",
      "Value of w1 -  [6.323576]  and w2 -  [1.676424]\n",
      "Value of w1 -  [6.01710448]  and w2 -  [1.48289552]\n",
      "Value of w1 -  [5.83676239]  and w2 -  [1.41323761]\n",
      "Value of w1 -  [5.72002714]  and w2 -  [1.40497286]\n",
      "Value of w1 -  [5.6356266]  and w2 -  [1.4268734]\n",
      "Value of w1 -  [5.56791407]  and w2 -  [1.46333593]\n",
      "Value of w1 -  [5.50905579]  and w2 -  [1.50656921]\n",
      "Value of w1 -  [5.45512467]  and w2 -  [1.55268783]\n",
      "Value of w1 -  [5.40414718]  and w2 -  [1.59975907]\n",
      "Value of w1 -  [5.35512673]  and w2 -  [1.64682639]\n",
      "Value of w1 -  [5.30755545]  and w2 -  [1.69342111]\n",
      "Value of w1 -  [5.26116997]  and w2 -  [1.73931832]\n",
      "Value of w1 -  [5.21582938]  and w2 -  [1.78441476]\n",
      "Value of w1 -  [5.1714542]  and w2 -  [1.82866787]\n",
      "Value of w1 -  [5.12799582]  and w2 -  [1.87206522]\n",
      "Value of w1 -  [5.08542125]  and w2 -  [1.91460927]\n",
      "Value of w1 -  [5.0437055]  and w2 -  [1.95630976]\n",
      "Value of w1 -  [5.00282773]  and w2 -  [1.9971799]\n",
      "Value of w1 -  [4.96276934]  and w2 -  [2.03723447]\n",
      "Value of w1 -  [4.92351304]  and w2 -  [2.07648887]\n",
      "Value of w1 -  [4.88504232]  and w2 -  [2.11495863]\n",
      "Value of w1 -  [4.84734125]  and w2 -  [2.15265923]\n",
      "Value of w1 -  [4.81039431]  and w2 -  [2.18960593]\n",
      "Value of w1 -  [4.77418637]  and w2 -  [2.22581375]\n",
      "Value of w1 -  [4.73870261]  and w2 -  [2.26129745]\n",
      "Value of w1 -  [4.70392854]  and w2 -  [2.29607149]\n",
      "Value of w1 -  [4.66984996]  and w2 -  [2.33015005]\n",
      "Value of w1 -  [4.63645296]  and w2 -  [2.36354705]\n",
      "Value of w1 -  [4.6037239]  and w2 -  [2.3962761]\n",
      "Value of w1 -  [4.57164942]  and w2 -  [2.42835058]\n",
      "Value of w1 -  [4.54021643]  and w2 -  [2.45978357]\n",
      "Value of w1 -  [4.5094121]  and w2 -  [2.4905879]\n",
      "Value of w1 -  [4.47922386]  and w2 -  [2.52077614]\n",
      "Value of w1 -  [4.44963938]  and w2 -  [2.55036062]\n",
      "Value of w1 -  [4.4206466]  and w2 -  [2.5793534]\n",
      "Value of w1 -  [4.39223367]  and w2 -  [2.60776634]\n",
      "Value of w1 -  [4.36438899]  and w2 -  [2.63561101]\n",
      "Value of w1 -  [4.33710121]  and w2 -  [2.66289879]\n",
      "Value of w1 -  [4.31035919]  and w2 -  [2.68964081]\n",
      "Value of w1 -  [4.284152]  and w2 -  [2.715848]\n",
      "Value of w1 -  [4.25846896]  and w2 -  [2.74153104]\n",
      "Value of w1 -  [4.23329958]  and w2 -  [2.76670042]\n",
      "Value of w1 -  [4.20863359]  and w2 -  [2.79136641]\n",
      "Value of w1 -  [4.18446092]  and w2 -  [2.81553908]\n",
      "Value of w1 -  [4.1607717]  and w2 -  [2.8392283]\n",
      "Value of w1 -  [4.13755627]  and w2 -  [2.86244373]\n",
      "Value of w1 -  [4.11480514]  and w2 -  [2.88519486]\n",
      "Value of w1 -  [4.09250904]  and w2 -  [2.90749096]\n",
      "Value of w1 -  [4.07065886]  and w2 -  [2.92934114]\n",
      "Value of w1 -  [4.04924568]  and w2 -  [2.95075432]\n",
      "Value of w1 -  [4.02826077]  and w2 -  [2.97173923]\n",
      "Value of w1 -  [4.00769555]  and w2 -  [2.99230445]\n",
      "Value of w1 -  [3.98754164]  and w2 -  [3.01245836]\n",
      "Value of w1 -  [3.96779081]  and w2 -  [3.03220919]\n",
      "Value of w1 -  [3.94843499]  and w2 -  [3.05156501]\n",
      "Value of w1 -  [3.92946629]  and w2 -  [3.07053371]\n",
      "Value of w1 -  [3.91087697]  and w2 -  [3.08912303]\n",
      "Value of w1 -  [3.89265943]  and w2 -  [3.10734057]\n",
      "Value of w1 -  [3.87480624]  and w2 -  [3.12519376]\n",
      "Value of w1 -  [3.85731011]  and w2 -  [3.14268989]\n",
      "Value of w1 -  [3.84016391]  and w2 -  [3.15983609]\n",
      "Value of w1 -  [3.82336063]  and w2 -  [3.17663937]\n",
      "Value of w1 -  [3.80689342]  and w2 -  [3.19310658]\n",
      "Value of w1 -  [3.79075555]  and w2 -  [3.20924445]\n",
      "Value of w1 -  [3.77494044]  and w2 -  [3.22505956]\n",
      "Value of w1 -  [3.75944163]  and w2 -  [3.24055837]\n",
      "Value of w1 -  [3.7442528]  and w2 -  [3.2557472]\n",
      "Value of w1 -  [3.72936774]  and w2 -  [3.27063226]\n",
      "Value of w1 -  [3.71478039]  and w2 -  [3.28521961]\n",
      "Value of w1 -  [3.70048478]  and w2 -  [3.29951522]\n",
      "Value of w1 -  [3.68647509]  and w2 -  [3.31352491]\n",
      "Value of w1 -  [3.67274558]  and w2 -  [3.32725442]\n",
      "Value of w1 -  [3.65929067]  and w2 -  [3.34070933]\n",
      "Value of w1 -  [3.64610486]  and w2 -  [3.35389514]\n",
      "Value of w1 -  [3.63318276]  and w2 -  [3.36681724]\n",
      "Value of w1 -  [3.62051911]  and w2 -  [3.37948089]\n",
      "Value of w1 -  [3.60810872]  and w2 -  [3.39189128]\n",
      "Value of w1 -  [3.59594655]  and w2 -  [3.40405345]\n",
      "Value of w1 -  [3.58402762]  and w2 -  [3.41597238]\n",
      "Value of w1 -  [3.57234707]  and w2 -  [3.42765293]\n",
      "Value of w1 -  [3.56090013]  and w2 -  [3.43909987]\n",
      "Value of w1 -  [3.54968212]  and w2 -  [3.45031788]\n",
      "Value of w1 -  [3.53868848]  and w2 -  [3.46131152]\n",
      "Value of w1 -  [3.52791471]  and w2 -  [3.47208529]\n",
      "Value of w1 -  [3.51735642]  and w2 -  [3.48264358]\n",
      "Value of w1 -  [3.50700929]  and w2 -  [3.49299071]\n",
      "Value of w1 -  [3.4968691]  and w2 -  [3.5031309]\n",
      "Value of w1 -  [3.48693172]  and w2 -  [3.51306828]\n",
      "Value of w1 -  [3.47719309]  and w2 -  [3.52280691]\n",
      "Value of w1 -  [3.46764922]  and w2 -  [3.53235078]\n",
      "Value of w1 -  [3.45829624]  and w2 -  [3.54170376]\n",
      "Value of w1 -  [3.44913032]  and w2 -  [3.55086968]\n",
      "Value of w1 -  [3.44014771]  and w2 -  [3.55985229]\n",
      "Value of w1 -  [3.43134475]  and w2 -  [3.56865525]\n",
      "Value of w1 -  [3.42271786]  and w2 -  [3.57728214]\n",
      "Value of w1 -  [3.4142635]  and w2 -  [3.5857365]\n",
      "Value of w1 -  [3.40597823]  and w2 -  [3.59402177]\n",
      "Value of w1 -  [3.39785867]  and w2 -  [3.60214133]\n",
      "Value of w1 -  [3.38990149]  and w2 -  [3.61009851]\n",
      "Value of w1 -  [3.38210346]  and w2 -  [3.61789654]\n",
      "Value of w1 -  [3.3744614]  and w2 -  [3.6255386]\n",
      "Value of w1 -  [3.36697217]  and w2 -  [3.63302783]\n",
      "Value of w1 -  [3.35963272]  and w2 -  [3.64036728]\n",
      "Value of w1 -  [3.35244007]  and w2 -  [3.64755993]\n",
      "Value of w1 -  [3.34539127]  and w2 -  [3.65460873]\n",
      "Value of w1 -  [3.33848344]  and w2 -  [3.66151656]\n",
      "Value of w1 -  [3.33171377]  and w2 -  [3.66828623]\n",
      "Value of w1 -  [3.3250795]  and w2 -  [3.6749205]\n",
      "Value of w1 -  [3.31857791]  and w2 -  [3.68142209]\n",
      "Value of w1 -  [3.31220635]  and w2 -  [3.68779365]\n",
      "Value of w1 -  [3.30596222]  and w2 -  [3.69403778]\n",
      "Value of w1 -  [3.29984298]  and w2 -  [3.70015702]\n",
      "Value of w1 -  [3.29384612]  and w2 -  [3.70615388]\n",
      "Value of w1 -  [3.2879692]  and w2 -  [3.7120308]\n",
      "Value of w1 -  [3.28220981]  and w2 -  [3.71779019]\n",
      "Value of w1 -  [3.27656562]  and w2 -  [3.72343438]\n",
      "Value of w1 -  [3.2710343]  and w2 -  [3.7289657]\n",
      "Value of w1 -  [3.26561362]  and w2 -  [3.73438638]\n",
      "Value of w1 -  [3.26030135]  and w2 -  [3.73969865]\n",
      "Value of w1 -  [3.25509532]  and w2 -  [3.74490468]\n",
      "Value of w1 -  [3.24999341]  and w2 -  [3.75000659]\n",
      "Value of w1 -  [3.24499354]  and w2 -  [3.75500646]\n",
      "Value of w1 -  [3.24009367]  and w2 -  [3.75990633]\n",
      "Value of w1 -  [3.2352918]  and w2 -  [3.7647082]\n",
      "Value of w1 -  [3.23058596]  and w2 -  [3.76941404]\n",
      "Value of w1 -  [3.22597424]  and w2 -  [3.77402576]\n",
      "Value of w1 -  [3.22145476]  and w2 -  [3.77854524]\n",
      "Value of w1 -  [3.21702566]  and w2 -  [3.78297434]\n",
      "Value of w1 -  [3.21268515]  and w2 -  [3.78731485]\n",
      "Value of w1 -  [3.20843145]  and w2 -  [3.79156855]\n",
      "Value of w1 -  [3.20426282]  and w2 -  [3.79573718]\n",
      "Value of w1 -  [3.20017756]  and w2 -  [3.79982244]\n",
      "Value of w1 -  [3.19617401]  and w2 -  [3.80382599]\n",
      "Value of w1 -  [3.19225053]  and w2 -  [3.80774947]\n",
      "Value of w1 -  [3.18840552]  and w2 -  [3.81159448]\n",
      "Value of w1 -  [3.18463741]  and w2 -  [3.81536259]\n",
      "Value of w1 -  [3.18094466]  and w2 -  [3.81905534]\n",
      "Value of w1 -  [3.17732577]  and w2 -  [3.82267423]\n",
      "Value of w1 -  [3.17377925]  and w2 -  [3.82622075]\n",
      "Value of w1 -  [3.17030367]  and w2 -  [3.82969633]\n",
      "Value of w1 -  [3.1668976]  and w2 -  [3.8331024]\n",
      "Value of w1 -  [3.16355964]  and w2 -  [3.83644036]\n",
      "Value of w1 -  [3.16028845]  and w2 -  [3.83971155]\n",
      "Value of w1 -  [3.15708268]  and w2 -  [3.84291732]\n",
      "Value of w1 -  [3.15394103]  and w2 -  [3.84605897]\n",
      "Value of w1 -  [3.15086221]  and w2 -  [3.84913779]\n",
      "Value of w1 -  [3.14784496]  and w2 -  [3.85215504]\n",
      "Value of w1 -  [3.14488806]  and w2 -  [3.85511194]\n",
      "Value of w1 -  [3.1419903]  and w2 -  [3.8580097]\n",
      "Value of w1 -  [3.1391505]  and w2 -  [3.8608495]\n",
      "Value of w1 -  [3.13636749]  and w2 -  [3.86363251]\n",
      "Value of w1 -  [3.13364014]  and w2 -  [3.86635986]\n",
      "Value of w1 -  [3.13096733]  and w2 -  [3.86903267]\n",
      "Value of w1 -  [3.12834799]  and w2 -  [3.87165201]\n",
      "Value of w1 -  [3.12578103]  and w2 -  [3.87421897]\n",
      "Value of w1 -  [3.12326541]  and w2 -  [3.87673459]\n",
      "Value of w1 -  [3.1208001]  and w2 -  [3.8791999]\n",
      "Value of w1 -  [3.1183841]  and w2 -  [3.8816159]\n",
      "Value of w1 -  [3.11601641]  and w2 -  [3.88398359]\n",
      "Value of w1 -  [3.11369609]  and w2 -  [3.88630391]\n",
      "Value of w1 -  [3.11142216]  and w2 -  [3.88857784]\n",
      "Value of w1 -  [3.10919372]  and w2 -  [3.89080628]\n",
      "Value of w1 -  [3.10700985]  and w2 -  [3.89299015]\n",
      "Value of w1 -  [3.10486965]  and w2 -  [3.89513035]\n",
      "Value of w1 -  [3.10277226]  and w2 -  [3.89722774]\n",
      "Value of w1 -  [3.10071681]  and w2 -  [3.89928319]\n",
      "Value of w1 -  [3.09870248]  and w2 -  [3.90129752]\n",
      "Value of w1 -  [3.09672843]  and w2 -  [3.90327157]\n",
      "Value of w1 -  [3.09479386]  and w2 -  [3.90520614]\n",
      "Value of w1 -  [3.09289798]  and w2 -  [3.90710202]\n",
      "Value of w1 -  [3.09104002]  and w2 -  [3.90895998]\n",
      "Value of w1 -  [3.08921922]  and w2 -  [3.91078078]\n",
      "Value of w1 -  [3.08743484]  and w2 -  [3.91256516]\n"
     ]
    },
    {
     "name": "stdout",
     "output_type": "stream",
     "text": [
      "Value of w1 -  [3.08568614]  and w2 -  [3.91431386]\n",
      "Value of w1 -  [3.08397242]  and w2 -  [3.91602758]\n",
      "Value of w1 -  [3.08229297]  and w2 -  [3.91770703]\n",
      "Value of w1 -  [3.08064711]  and w2 -  [3.91935289]\n",
      "Value of w1 -  [3.07903417]  and w2 -  [3.92096583]\n",
      "Value of w1 -  [3.07745348]  and w2 -  [3.92254652]\n",
      "Value of w1 -  [3.07590441]  and w2 -  [3.92409559]\n",
      "Value of w1 -  [3.07438633]  and w2 -  [3.92561367]\n",
      "Value of w1 -  [3.0728986]  and w2 -  [3.9271014]\n",
      "Value of w1 -  [3.07144063]  and w2 -  [3.92855937]\n",
      "Value of w1 -  [3.07001181]  and w2 -  [3.92998819]\n",
      "Value of w1 -  [3.06861158]  and w2 -  [3.93138842]\n",
      "Value of w1 -  [3.06723935]  and w2 -  [3.93276065]\n",
      "Value of w1 -  [3.06589456]  and w2 -  [3.93410544]\n",
      "Value of w1 -  [3.06457667]  and w2 -  [3.93542333]\n",
      "Value of w1 -  [3.06328514]  and w2 -  [3.93671486]\n",
      "Value of w1 -  [3.06201943]  and w2 -  [3.93798057]\n",
      "Value of w1 -  [3.06077904]  and w2 -  [3.93922096]\n",
      "Value of w1 -  [3.05956346]  and w2 -  [3.94043654]\n",
      "Value of w1 -  [3.05837219]  and w2 -  [3.94162781]\n",
      "Value of w1 -  [3.05720475]  and w2 -  [3.94279525]\n",
      "Value of w1 -  [3.05606065]  and w2 -  [3.94393935]\n",
      "Value of w1 -  [3.05493944]  and w2 -  [3.94506056]\n",
      "Value of w1 -  [3.05384065]  and w2 -  [3.94615935]\n",
      "Value of w1 -  [3.05276384]  and w2 -  [3.94723616]\n"
     ]
    }
   ],
   "source": [
    "lr = 0.01\n",
    "w1 = 10\n",
    "w2 = 5\n",
    "\n",
    "w = np.array([[w1],\n",
    "              [w2]])\n",
    "for i in range(200):\n",
    "    y_pred = np.dot(x, w)\n",
    "    error = 0.5*np.sum((y-y_pred)**2)\n",
    "    dEw1 = 2 * np.dot(((y-y_pred).T), -x[:,0])\n",
    "    dEw2 = 2 * np.dot(((y-y_pred).T), -x[:,1])\n",
    "    w1 = w1 - lr * dEw1\n",
    "    w2 = w2 - lr * dEw2\n",
    "    w = np.array([[w1][0],\n",
    "                [w2][0]])\n",
    "    print(\"Value of w1 - \", w[0], \" and w2 - \", w[1])"
   ]
  },
  {
   "cell_type": "code",
   "execution_count": null,
   "metadata": {},
   "outputs": [],
   "source": []
  },
  {
   "cell_type": "code",
   "execution_count": null,
   "metadata": {},
   "outputs": [],
   "source": []
  },
  {
   "cell_type": "code",
   "execution_count": null,
   "metadata": {},
   "outputs": [],
   "source": []
  },
  {
   "cell_type": "code",
   "execution_count": null,
   "metadata": {},
   "outputs": [],
   "source": []
  }
 ],
 "metadata": {
  "kernelspec": {
   "display_name": "Python 3",
   "language": "python",
   "name": "python3"
  },
  "language_info": {
   "codemirror_mode": {
    "name": "ipython",
    "version": 3
   },
   "file_extension": ".py",
   "mimetype": "text/x-python",
   "name": "python",
   "nbconvert_exporter": "python",
   "pygments_lexer": "ipython3",
   "version": "3.6.5"
  }
 },
 "nbformat": 4,
 "nbformat_minor": 2
}
