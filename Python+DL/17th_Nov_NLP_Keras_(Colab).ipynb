{
  "nbformat": 4,
  "nbformat_minor": 0,
  "metadata": {
    "colab": {
      "name": "17th Nov NLP Keras (Colab).ipynb",
      "version": "0.3.2",
      "provenance": [],
      "collapsed_sections": []
    },
    "kernelspec": {
      "name": "python3",
      "display_name": "Python 3"
    },
    "accelerator": "GPU"
  },
  "cells": [
    {
      "metadata": {
        "id": "CcBAa_HgLOot",
        "colab_type": "code",
        "colab": {}
      },
      "cell_type": "code",
      "source": [
        "import keras\n",
        "import numpy as np \n",
        "import os"
      ],
      "execution_count": 0,
      "outputs": []
    },
    {
      "metadata": {
        "id": "5oWMg1BXMXXO",
        "colab_type": "code",
        "colab": {
          "base_uri": "https://localhost:8080/",
          "height": 437
        },
        "outputId": "ee5d6a1b-1230-4379-fdf9-db76a739d259"
      },
      "cell_type": "code",
      "source": [
        "! pip uninstall tensorflow\n",
        "! pip install tensorflow-gpu"
      ],
      "execution_count": 3,
      "outputs": [
        {
          "output_type": "stream",
          "text": [
            "Collecting tensorflow-gpu\n",
            "\u001b[?25l  Downloading https://files.pythonhosted.org/packages/55/7e/bec4d62e9dc95e828922c6cec38acd9461af8abe749f7c9def25ec4b2fdb/tensorflow_gpu-1.12.0-cp36-cp36m-manylinux1_x86_64.whl (281.7MB)\n",
            "\u001b[K    100% |████████████████████████████████| 281.7MB 75kB/s \n",
            "tcmalloc: large alloc 1073750016 bytes == 0x50034000 @  0x7f7e608132a4 0x594e17 0x626104 0x51190a 0x4f5277 0x510c78 0x5119bd 0x4f5277 0x4f3338 0x510fb0 0x5119bd 0x4f5277 0x4f3338 0x510fb0 0x5119bd 0x4f5277 0x4f3338 0x510fb0 0x5119bd 0x4f6070 0x510c78 0x5119bd 0x4f5277 0x4f3338 0x510fb0 0x5119bd 0x4f6070 0x4f3338 0x510fb0 0x5119bd 0x4f6070\n",
            "\u001b[?25hRequirement already satisfied: wheel>=0.26 in /usr/local/lib/python3.6/dist-packages (from tensorflow-gpu) (0.32.2)\n",
            "Requirement already satisfied: numpy>=1.13.3 in /usr/local/lib/python3.6/dist-packages (from tensorflow-gpu) (1.14.6)\n",
            "Requirement already satisfied: termcolor>=1.1.0 in /usr/local/lib/python3.6/dist-packages (from tensorflow-gpu) (1.1.0)\n",
            "Requirement already satisfied: keras-preprocessing>=1.0.5 in /usr/local/lib/python3.6/dist-packages (from tensorflow-gpu) (1.0.5)\n",
            "Requirement already satisfied: six>=1.10.0 in /usr/local/lib/python3.6/dist-packages (from tensorflow-gpu) (1.11.0)\n",
            "Requirement already satisfied: tensorboard<1.13.0,>=1.12.0 in /usr/local/lib/python3.6/dist-packages (from tensorflow-gpu) (1.12.0)\n",
            "Requirement already satisfied: absl-py>=0.1.6 in /usr/local/lib/python3.6/dist-packages (from tensorflow-gpu) (0.6.1)\n",
            "Requirement already satisfied: astor>=0.6.0 in /usr/local/lib/python3.6/dist-packages (from tensorflow-gpu) (0.7.1)\n",
            "Requirement already satisfied: keras-applications>=1.0.6 in /usr/local/lib/python3.6/dist-packages (from tensorflow-gpu) (1.0.6)\n",
            "Requirement already satisfied: gast>=0.2.0 in /usr/local/lib/python3.6/dist-packages (from tensorflow-gpu) (0.2.0)\n",
            "Requirement already satisfied: protobuf>=3.6.1 in /usr/local/lib/python3.6/dist-packages (from tensorflow-gpu) (3.6.1)\n",
            "Requirement already satisfied: grpcio>=1.8.6 in /usr/local/lib/python3.6/dist-packages (from tensorflow-gpu) (1.15.0)\n",
            "Requirement already satisfied: werkzeug>=0.11.10 in /usr/local/lib/python3.6/dist-packages (from tensorboard<1.13.0,>=1.12.0->tensorflow-gpu) (0.14.1)\n",
            "Requirement already satisfied: markdown>=2.6.8 in /usr/local/lib/python3.6/dist-packages (from tensorboard<1.13.0,>=1.12.0->tensorflow-gpu) (3.0.1)\n",
            "Requirement already satisfied: h5py in /usr/local/lib/python3.6/dist-packages (from keras-applications>=1.0.6->tensorflow-gpu) (2.8.0)\n",
            "Requirement already satisfied: setuptools in /usr/local/lib/python3.6/dist-packages (from protobuf>=3.6.1->tensorflow-gpu) (40.6.2)\n",
            "Installing collected packages: tensorflow-gpu\n",
            "Successfully installed tensorflow-gpu-1.12.0\n"
          ],
          "name": "stdout"
        }
      ]
    },
    {
      "metadata": {
        "id": "EaafPYsHOFwI",
        "colab_type": "code",
        "colab": {
          "base_uri": "https://localhost:8080/",
          "height": 217
        },
        "outputId": "b3c48e1f-c8ee-476c-b16c-7cf66a78b16d"
      },
      "cell_type": "code",
      "source": [
        "! wget http://www.cs.cmu.edu/afs/cs.cmu.edu/project/theo-20/www/data/news20.tar.gz"
      ],
      "execution_count": 5,
      "outputs": [
        {
          "output_type": "stream",
          "text": [
            "--2018-11-17 15:14:57--  http://www.cs.cmu.edu/afs/cs.cmu.edu/project/theo-20/www/data/news20.tar.gz\n",
            "Resolving www.cs.cmu.edu (www.cs.cmu.edu)... 128.2.42.95\n",
            "Connecting to www.cs.cmu.edu (www.cs.cmu.edu)|128.2.42.95|:80... connected.\n",
            "HTTP request sent, awaiting response... 200 OK\n",
            "Length: 17329808 (17M) [application/x-tar]\n",
            "Saving to: ‘news20.tar.gz’\n",
            "\n",
            "news20.tar.gz       100%[===================>]  16.53M   846KB/s    in 20s     \n",
            "\n",
            "2018-11-17 15:15:17 (839 KB/s) - ‘news20.tar.gz’ saved [17329808/17329808]\n",
            "\n"
          ],
          "name": "stdout"
        }
      ]
    },
    {
      "metadata": {
        "id": "Jd4ZoOdSOPtX",
        "colab_type": "code",
        "colab": {}
      },
      "cell_type": "code",
      "source": [
        "! tar -xvf news20.tar.gz"
      ],
      "execution_count": 0,
      "outputs": []
    },
    {
      "metadata": {
        "id": "CIg2ScckPmta",
        "colab_type": "code",
        "colab": {
          "base_uri": "https://localhost:8080/",
          "height": 364
        },
        "outputId": "37bf6eba-b9ba-4981-f6b3-c90c426c1ac7"
      },
      "cell_type": "code",
      "source": [
        "! cat 20_newsgroup/comp.os.ms-windows.misc/10000"
      ],
      "execution_count": 7,
      "outputs": [
        {
          "output_type": "stream",
          "text": [
            "Xref: cantaloupe.srv.cs.cmu.edu comp.archives.msdos.d:2258 comp.os.ms-windows.apps:12106 comp.os.ms-windows.misc:10000\n",
            "Newsgroups: comp.archives.msdos.d,comp.os.ms-windows.apps,comp.os.ms-windows.misc\n",
            "Path: cantaloupe.srv.cs.cmu.edu!magnesium.club.cc.cmu.edu!news.sei.cmu.edu!cis.ohio-state.edu!pacific.mps.ohio-state.edu!zaphod.mps.ohio-state.edu!moe.ksu.ksu.edu!osuunx.ucc.okstate.edu!constellation!a.cs.okstate.edu!yeoy\n",
            "From: yeoy@a.cs.okstate.edu (YEO YEK CHONG)\n",
            "Subject: Re: Is \"Kermit\" available for Windows 3.0/3.1?\n",
            "References: <a4Fm3B1w165w@vicuna.ocunix.on.ca>\n",
            "Message-ID: <1993Apr27.170327.17493@a.cs.okstate.edu>\n",
            "Organization: Oklahoma State University\n",
            "Date: Tue, 27 Apr 93 17:03:27 GMT\n",
            "Lines: 7\n",
            "\n",
            "From article <a4Fm3B1w165w@vicuna.ocunix.on.ca>, by Steve Frampton <frampton@vicuna.ocunix.on.ca>:\n",
            "> I was wondering, is the \"Kermit\" package (the actual package, not a\n",
            "\n",
            "Yes!  In the usual ftp sites.\n",
            "\n",
            "Yek CHong\n",
            "\n"
          ],
          "name": "stdout"
        }
      ]
    },
    {
      "metadata": {
        "id": "v-i1hfE-P0Cu",
        "colab_type": "code",
        "colab": {
          "base_uri": "https://localhost:8080/",
          "height": 290
        },
        "outputId": "de29bebc-9ce7-4985-9945-e8e79df55f4c"
      },
      "cell_type": "code",
      "source": [
        "! wget http://nlp.stanford.edu/data/glove.6B.zip"
      ],
      "execution_count": 8,
      "outputs": [
        {
          "output_type": "stream",
          "text": [
            "--2018-11-17 15:23:10--  http://nlp.stanford.edu/data/glove.6B.zip\n",
            "Resolving nlp.stanford.edu (nlp.stanford.edu)... 171.64.67.140\n",
            "Connecting to nlp.stanford.edu (nlp.stanford.edu)|171.64.67.140|:80... connected.\n",
            "HTTP request sent, awaiting response... 302 Found\n",
            "Location: https://nlp.stanford.edu/data/glove.6B.zip [following]\n",
            "--2018-11-17 15:23:10--  https://nlp.stanford.edu/data/glove.6B.zip\n",
            "Connecting to nlp.stanford.edu (nlp.stanford.edu)|171.64.67.140|:443... connected.\n",
            "HTTP request sent, awaiting response... 200 OK\n",
            "Length: 862182613 (822M) [application/zip]\n",
            "Saving to: ‘glove.6B.zip’\n",
            "\n",
            "glove.6B.zip        100%[===================>] 822.24M  86.9MB/s    in 10s     \n",
            "\n",
            "2018-11-17 15:23:21 (81.7 MB/s) - ‘glove.6B.zip’ saved [862182613/862182613]\n",
            "\n"
          ],
          "name": "stdout"
        }
      ]
    },
    {
      "metadata": {
        "id": "d31QU7QXRLqo",
        "colab_type": "code",
        "colab": {
          "base_uri": "https://localhost:8080/",
          "height": 108
        },
        "outputId": "716a01e2-4970-46e0-92d8-06610c8e77b2"
      },
      "cell_type": "code",
      "source": [
        "! unzip glove.6B.zip"
      ],
      "execution_count": 10,
      "outputs": [
        {
          "output_type": "stream",
          "text": [
            "Archive:  glove.6B.zip\n",
            "  inflating: glove.6B.50d.txt        \n",
            "  inflating: glove.6B.100d.txt       \n",
            "  inflating: glove.6B.200d.txt       \n",
            "  inflating: glove.6B.300d.txt       \n"
          ],
          "name": "stdout"
        }
      ]
    },
    {
      "metadata": {
        "id": "7B8oRm7qRTSn",
        "colab_type": "code",
        "colab": {
          "base_uri": "https://localhost:8080/",
          "height": 219
        },
        "outputId": "50573544-6606-4115-f26b-87588c3a0767"
      },
      "cell_type": "code",
      "source": [
        "! head glove.6B.50d.txt"
      ],
      "execution_count": 11,
      "outputs": [
        {
          "output_type": "stream",
          "text": [
            "the 0.418 0.24968 -0.41242 0.1217 0.34527 -0.044457 -0.49688 -0.17862 -0.00066023 -0.6566 0.27843 -0.14767 -0.55677 0.14658 -0.0095095 0.011658 0.10204 -0.12792 -0.8443 -0.12181 -0.016801 -0.33279 -0.1552 -0.23131 -0.19181 -1.8823 -0.76746 0.099051 -0.42125 -0.19526 4.0071 -0.18594 -0.52287 -0.31681 0.00059213 0.0074449 0.17778 -0.15897 0.012041 -0.054223 -0.29871 -0.15749 -0.34758 -0.045637 -0.44251 0.18785 0.0027849 -0.18411 -0.11514 -0.78581\n",
            ", 0.013441 0.23682 -0.16899 0.40951 0.63812 0.47709 -0.42852 -0.55641 -0.364 -0.23938 0.13001 -0.063734 -0.39575 -0.48162 0.23291 0.090201 -0.13324 0.078639 -0.41634 -0.15428 0.10068 0.48891 0.31226 -0.1252 -0.037512 -1.5179 0.12612 -0.02442 -0.042961 -0.28351 3.5416 -0.11956 -0.014533 -0.1499 0.21864 -0.33412 -0.13872 0.31806 0.70358 0.44858 -0.080262 0.63003 0.32111 -0.46765 0.22786 0.36034 -0.37818 -0.56657 0.044691 0.30392\n",
            ". 0.15164 0.30177 -0.16763 0.17684 0.31719 0.33973 -0.43478 -0.31086 -0.44999 -0.29486 0.16608 0.11963 -0.41328 -0.42353 0.59868 0.28825 -0.11547 -0.041848 -0.67989 -0.25063 0.18472 0.086876 0.46582 0.015035 0.043474 -1.4671 -0.30384 -0.023441 0.30589 -0.21785 3.746 0.0042284 -0.18436 -0.46209 0.098329 -0.11907 0.23919 0.1161 0.41705 0.056763 -6.3681e-05 0.068987 0.087939 -0.10285 -0.13931 0.22314 -0.080803 -0.35652 0.016413 0.10216\n",
            "of 0.70853 0.57088 -0.4716 0.18048 0.54449 0.72603 0.18157 -0.52393 0.10381 -0.17566 0.078852 -0.36216 -0.11829 -0.83336 0.11917 -0.16605 0.061555 -0.012719 -0.56623 0.013616 0.22851 -0.14396 -0.067549 -0.38157 -0.23698 -1.7037 -0.86692 -0.26704 -0.2589 0.1767 3.8676 -0.1613 -0.13273 -0.68881 0.18444 0.0052464 -0.33874 -0.078956 0.24185 0.36576 -0.34727 0.28483 0.075693 -0.062178 -0.38988 0.22902 -0.21617 -0.22562 -0.093918 -0.80375\n",
            "to 0.68047 -0.039263 0.30186 -0.17792 0.42962 0.032246 -0.41376 0.13228 -0.29847 -0.085253 0.17118 0.22419 -0.10046 -0.43653 0.33418 0.67846 0.057204 -0.34448 -0.42785 -0.43275 0.55963 0.10032 0.18677 -0.26854 0.037334 -2.0932 0.22171 -0.39868 0.20912 -0.55725 3.8826 0.47466 -0.95658 -0.37788 0.20869 -0.32752 0.12751 0.088359 0.16351 -0.21634 -0.094375 0.018324 0.21048 -0.03088 -0.19722 0.082279 -0.09434 -0.073297 -0.064699 -0.26044\n",
            "and 0.26818 0.14346 -0.27877 0.016257 0.11384 0.69923 -0.51332 -0.47368 -0.33075 -0.13834 0.2702 0.30938 -0.45012 -0.4127 -0.09932 0.038085 0.029749 0.10076 -0.25058 -0.51818 0.34558 0.44922 0.48791 -0.080866 -0.10121 -1.3777 -0.10866 -0.23201 0.012839 -0.46508 3.8463 0.31362 0.13643 -0.52244 0.3302 0.33707 -0.35601 0.32431 0.12041 0.3512 -0.069043 0.36885 0.25168 -0.24517 0.25381 0.1367 -0.31178 -0.6321 -0.25028 -0.38097\n",
            "in 0.33042 0.24995 -0.60874 0.10923 0.036372 0.151 -0.55083 -0.074239 -0.092307 -0.32821 0.09598 -0.82269 -0.36717 -0.67009 0.42909 0.016496 -0.23573 0.12864 -1.0953 0.43334 0.57067 -0.1036 0.20422 0.078308 -0.42795 -1.7984 -0.27865 0.11954 -0.12689 0.031744 3.8631 -0.17786 -0.082434 -0.62698 0.26497 -0.057185 -0.073521 0.46103 0.30862 0.12498 -0.48609 -0.0080272 0.031184 -0.36576 -0.42699 0.42164 -0.11666 -0.50703 -0.027273 -0.53285\n",
            "a 0.21705 0.46515 -0.46757 0.10082 1.0135 0.74845 -0.53104 -0.26256 0.16812 0.13182 -0.24909 -0.44185 -0.21739 0.51004 0.13448 -0.43141 -0.03123 0.20674 -0.78138 -0.20148 -0.097401 0.16088 -0.61836 -0.18504 -0.12461 -2.2526 -0.22321 0.5043 0.32257 0.15313 3.9636 -0.71365 -0.67012 0.28388 0.21738 0.14433 0.25926 0.23434 0.4274 -0.44451 0.13813 0.36973 -0.64289 0.024142 -0.039315 -0.26037 0.12017 -0.043782 0.41013 0.1796\n",
            "\" 0.25769 0.45629 -0.76974 -0.37679 0.59272 -0.063527 0.20545 -0.57385 -0.29009 -0.13662 0.32728 1.4719 -0.73681 -0.12036 0.71354 -0.46098 0.65248 0.48887 -0.51558 0.039951 -0.34307 -0.014087 0.86488 0.3546 0.7999 -1.4995 -1.8153 0.41128 0.23921 -0.43139 3.6623 -0.79834 -0.54538 0.16943 -0.82017 -0.3461 0.69495 -1.2256 -0.17992 -0.057474 0.030498 -0.39543 -0.38515 -1.0002 0.087599 -0.31009 -0.34677 -0.31438 0.75004 0.97065\n",
            "'s 0.23727 0.40478 -0.20547 0.58805 0.65533 0.32867 -0.81964 -0.23236 0.27428 0.24265 0.054992 0.16296 -1.2555 -0.086437 0.44536 0.096561 -0.16519 0.058378 -0.38598 0.086977 0.0033869 0.55095 -0.77697 -0.62096 0.092948 -2.5685 -0.67739 0.10151 -0.48643 -0.057805 3.1859 -0.017554 -0.16138 0.055486 -0.25885 -0.33938 -0.19928 0.26049 0.10478 -0.55934 -0.12342 0.65961 -0.51802 -0.82995 -0.082739 0.28155 -0.423 -0.27378 -0.007901 -0.030231\n"
          ],
          "name": "stdout"
        }
      ]
    },
    {
      "metadata": {
        "id": "X3MiD0mgRsgv",
        "colab_type": "code",
        "colab": {}
      },
      "cell_type": "code",
      "source": [
        "embedding_index = {}\n",
        "with open(\"glove.6B.50d.txt\", \"r\") as glove_file:\n",
        "  for line in glove_file:\n",
        "    values = line.split()\n",
        "    word = values[0]\n",
        "    coefs = np.array(values[1:], dtype='float32')\n",
        "    embedding_index[word] = coefs"
      ],
      "execution_count": 0,
      "outputs": []
    },
    {
      "metadata": {
        "id": "xm6Z0mWJT_DN",
        "colab_type": "code",
        "colab": {
          "base_uri": "https://localhost:8080/",
          "height": 35
        },
        "outputId": "71125b9a-4eb0-41a0-81c3-1ce2b9eeee90"
      },
      "cell_type": "code",
      "source": [
        "len(embedding_index)"
      ],
      "execution_count": 15,
      "outputs": [
        {
          "output_type": "execute_result",
          "data": {
            "text/plain": [
              "400000"
            ]
          },
          "metadata": {
            "tags": []
          },
          "execution_count": 15
        }
      ]
    },
    {
      "metadata": {
        "id": "BorpTMS9UKGU",
        "colab_type": "code",
        "colab": {}
      },
      "cell_type": "code",
      "source": [
        "texts = []\n",
        "labels_index = {}\n",
        "labels = []\n",
        "for name in sorted(os.listdir(\"20_newsgroup\")):\n",
        "  path = os.path.join(\"20_newsgroup\", name)\n",
        "  if os.path.isdir(path):\n",
        "    label_id = len(labels_index)\n",
        "    labels_index[name] = label_id\n",
        "    for file_name in os.listdir(path):\n",
        "      if file_name.isdigit():\n",
        "        fpath = os.path.join(path, file_name)\n",
        "        with open(fpath, \"r\", encoding='latin-1') as f:\n",
        "          t = f.read()\n",
        "          i = t.find('\\n\\n')\n",
        "          if 0 < i:\n",
        "            t = t[i:]\n",
        "            texts.append(t)\n",
        "        labels.append(label_id)"
      ],
      "execution_count": 0,
      "outputs": []
    },
    {
      "metadata": {
        "id": "JNIxlXhgUPMf",
        "colab_type": "code",
        "colab": {
          "base_uri": "https://localhost:8080/",
          "height": 35
        },
        "outputId": "ac897600-65c6-4929-900c-5e92efbd165b"
      },
      "cell_type": "code",
      "source": [
        "len(texts)"
      ],
      "execution_count": 29,
      "outputs": [
        {
          "output_type": "execute_result",
          "data": {
            "text/plain": [
              "19997"
            ]
          },
          "metadata": {
            "tags": []
          },
          "execution_count": 29
        }
      ]
    },
    {
      "metadata": {
        "id": "cm65aur7Xux1",
        "colab_type": "code",
        "colab": {
          "base_uri": "https://localhost:8080/",
          "height": 219
        },
        "outputId": "4bbd45aa-055e-411c-c93f-73dce60e8670"
      },
      "cell_type": "code",
      "source": [
        "texts[:10]"
      ],
      "execution_count": 31,
      "outputs": [
        {
          "output_type": "execute_result",
          "data": {
            "text/plain": [
              "['\\n\\nIn article <1qlef4INN8dn@gap.caltech.edu>, keith@cco.caltech.edu (Keith Allan Schneider) writes:\\n|> livesey@solntze.wpd.sgi.com (Jon Livesey) writes:\\n|> \\n|> [...]\\n|> >>The \"`little\\' things\" above were in reference to Germany, clearly.  People\\n|> >>said that there were similar things in Germany, but no one could name any.\\n|> >That\\'s not true.  I gave you two examples.  One was the rather\\n|> >pevasive anti-semitism in German Christianity well before Hitler\\n|> >arrived.  The other was the system of social ranks that were used\\n|> >in Imperail Germany and Austria to distinguish Jews from the rest \\n|> >of the population.\\n|> \\n|> These don\\'t seem like \"little things\" to me.  At least, they are orders\\n|> worse than the motto.  Do you think that the motto is a \"little thing\"\\n|> that will lead to worse things?\\n\\nYou don\\'t think these are little things because with twenty-twenty\\nhindsight, you know what they led to.\\n\\njon.\\n',\n",
              " \"\\n\\nJim Perry (perry@dsinc.com) wrote:\\n\\n: The Bible says there is a God; if that is true then our atheism is\\n: mistaken.  What of it?  Seems pretty obvious to me.  Socrates said\\n: there were many gods; if that is true then your monotheism (and our\\n: atheism) is mistaken, even if Socrates never existed.\\n\\n\\nJim,\\n\\nI think you must have come in late. The discussion (on my part at\\nleast) began with Benedikt's questioning of the historical acuuracy of\\nthe NT. I was making the point that, if the same standards are used to\\nvalidate secular history that are used here to discredit NT history,\\nthen virtually nothing is known of the first century.\\n\\nYou seem to be saying that the Bible -cannot- be true because it\\nspeaks of the existence of God as it it were a fact. Your objection\\nhas nothing to do with history, it is merely another statement of\\natheism.\\n\\nBill\\n\",\n",
              " '\\n\\nIn article <C5sAD7.1DM@news.cso.uiuc.edu>, cobb@alexia.lis.uiuc.edu (Mike Cobb) writes:\\n> In <1993Apr20.004119.6119@cnsvax.uwec.edu> nyeda@cnsvax.uwec.edu (David Nye) \\n> writes:\\n> \\n>>[reply to cobb@alexia.lis.uiuc.edu (Mike Cobb)]\\n>> \\n>>>If morals come from what is societally accepted, why follow that? What\\n>>>right do we have to expect others to follow our notion of societally\\n>>>mandated morality?  Pardon the extremism, but couldn\\'t I murder your\\n>>>\"brother\" and say that I was exercising my rights as I saw them, was\\n>>>doing what felt good, didn\\'t want anyone forcing their morality on me,\\n>>>or I don\\'t follow your \"morality\" ?\\n>> \\n>>I believe that morality is subjective.  Each person is entitled to his\\n>>own moral attitudes.  Mine are not a priori more correct than someone\\n>>elses.  This does not mean however that I must judge another on the\\n>>basis of his rather than my moral standards.  While he is entitled to\\n>>believe what his own moral sense tells him, the rest of society is\\n>>entitled to pass laws spelling out punishments for behavior that is\\n>>offensive to the majority.\\n> \\n> Why? How? Might makes right? How can they force their morality on me? Why \\n> can\\'t I do what I want? Who are they to decide? What if I disagree? \\n\\n\\nWell I agree with you in the sense that they have no \"moral\" right to inflict\\nthese rules, but there is one thing I might add: at the very least, almost\\neverybody wants to avoid pain, and if that means sacrificing some stuff for a\\nherd morality, then so be it.  \\n\\n>> \\n>>Most criminals do not see their behavior as moral.  The may realize that\\n>>it is immoral and not care.  They are thus not following their own moral\\n>>system but being immoral.\\n> \\n> Good point, but it is being immoral in our opinion.  We don\\'t let them choose,\\n> we make the decision that their actions are wrong for them.\\n\\nRight, and since they grew up and learned around us, they have some idea of our\\nright and wrong, which I think must, in part, be incorporated.  Very rarely do\\nyou see criminal behaviour for \"philosophical reasons\"\\n\\n\\n> \\n>   For someone to lay claim to an alternative\\n>>moral system, he must be sincere in his belief in it and it must be\\n>>internally consistent.  Some sociopaths lack an innate moral sense\\n> \\n> I admit to lean toward the idea of an innate moral sense, but have little basis\\n> for it as of yet.  How far can such a concept be extended?\\n> \\n\\n(stuff deleted)\\n\\n> Do you mean that we could say it would be wrong for us to do such a thing but \\n> not him.  After all, he was behaving morally in his own eyes and doing what he\\n> chose.  On what basis do we condemn other societies besides, here\\'s the buzz \\n> words, on the idea that there are some actions wrong for all humans in all \\n> societies?\\n> \\n>>   Holding that morality is subjective does not mean\\n>>that we must excuse the murderer.\\n> \\n> Why not? Do we have to be objective suddenly?\\n>> \\n>>David Nye (nyeda@cnsvax.uwec.edu).  Midelfort Clinic, Eau Claire WI\\n>>This is patently absurd; but whoever wishes to become a philosopher\\n>>must learn not to be frightened by absurdities. -- Bertrand Russell\\n> \\n> MAC\\n> --\\n> ****************************************************************\\n>                                                     Michael A. Cobb\\n>  \"...and I won\\'t raise taxes on the middle     University of Illinois\\n>     class to pay for my programs.\"                 Champaign-Urbana\\n>           -Bill Clinton 3rd Debate             cobb@alexia.lis.uiuc.edu\\n>                                               \\n> Nobody can explain everything to anybody.  G.K.Chesterton\\n-- \\n\\nbest regards,\\n\\n--Adam\\n\\n********************************************************************************\\n* Adam John Cooper\\t\\t\"Verily, often have I laughed at the weaklings *\\n* (612) 696-7521\\t\\t   who thought themselves good simply because  *\\n* acooper@macalstr.edu\\t\\t\\t\\tthey had no claws.\"\\t       *\\n********************************************************************************\\n',\n",
              " '\\n\\nIn article <1qk1pp$6hj@kyle.eitech.com> ekr@kyle.eitech.com (Eric Rescorla) writes:\\n|In article <1qjd3o$nlv@horus.ap.mchp.sni.de> frank@D012S658.uucp (Frank O\\'Dwyer) writes:\\n|>In article <sandvik-140493230024@sandvik-kent.apple.com# sandvik@newton.apple.com (Kent Sandvik) writes:\\n|>#In article <1qie61$fkt@horus.ap.mchp.sni.de>, frank@D012S658.uucp (Frank\\n|>#O\\'Dwyer) wrote:\\n|>#> Objective morality is morality built from objective values.\\n|>#\\n|>#You now pushed down the defintion of objectivity into realm of\\n|>#objective values. So you need to explain that as well, as well\\n|>#as the objective sub-parts, the objective atoms, quarks...\\n|>Firstly, science has its basis in values, not the other way round.\\n|You keep saying that. I do not think it means what you think it\\n|means.\\n|Perhaps you should explain what you think \"science has it\\'s basis\\n|in values\" means. The reason why people DO science is that\\n|they value it\\'s results. That does not mean that science has\\n|it\\'s basis in values. Any more than DES stops working if I stop\\n|valuing my privacy.\\n\\nIt\\'s partly as you say: the reason why people do science is that they value it\\'s\\nresults.  If one follows relativism to the letter, then, the theories\\nand predictions which are the results of science can only be subjectively\\nvalued as \\'objective\\', \\'correct\\', or anything else.  One cannot attach\\nany objective worth to the results of science,  for the simple reason\\nthat one cannot attach objective worth to anything.  \\n\\nHowever, not only are the outputs of science subjectively valued, so are\\nthe inputs.  More problems.  Which facts to observe?   What\\nis a fact?  When am I justified in valuing sensory input as signal rather\\nthan noise?  How do I know that everyone makes the call the same as I\\ndo?  As a loyal relativist, I must assume that what\\'s signal for me\\nmay not be signal for you.  The objectivity postulate should not sit\\nwell with me.\\n\\nSo the relativist attends to a system, designed at whim, fed with what should \\nbe assumed to be conflicting data, in the expectation of results which need \\nsatisfy no-one.  GIGO.\\n\\n|>So you better explain what objective atoms are, and how we get them\\n|>from subjective values, before we go any further.\\n|See above.\\n\\n-- \\nFrank O\\'Dwyer                                  \\'I\\'m not hatching That\\'\\nodwyer@sse.ie                                  from \"Hens\",  by Evelyn Conlon\\n',\n",
              " \"\\n\\njoslin@pogo.isp.pitt.edu (David Joslin) writes:\\n\\n>Someone writes:\\n>>I found a list of Biblical contradictions and cleaned it up a bit,\\n>>but now I'd like some help with it.\\n\\n>I'm curious to know what purpose people think these lists serve.\\n\\nIt's about time.  Why do atheists spend so much time paying attention\\nto the bible, anyway?\\n\\nFace it, there are better things to do with your life!  I used to\\nchuckle and snort over the silliness in that book and the absurdity\\nof people believing in it as truth, etc.  Why do we spend so little\\ntime on the Mayan religion, or the Native Americans?  Heck, the Native\\nAmericans have signifigantly more interesting myths.  Also, what\\nabout the Egyptians.\\n\\nI think we pay so much attention to Christianity because we accept\\nit as a _religion_ and not a mythology, which I find more accurate.\\n\\n\\nI try to be tolerant.  It gets very hard when someone places a book\\nunder my nose and tells me it's special.  It's not.\\n\\nCarolyn\\n\",\n",
              " '\\n\\nIn article <1qlettINN8oi@gap.caltech.edu>, keith@cco.caltech.edu (Keith Allan Schneider) writes:\\n|> livesey@solntze.wpd.sgi.com (Jon Livesey) writes:\\n|> \\n|> >>>Explain to me\\n|> >>>how instinctive acts can be moral acts, and I am happy to listen.\\n|> >>For example, if it were instinctive not to murder...\\n|> >\\n|> >Then not murdering would have no moral significance, since there\\n|> >would be nothing voluntary about it.\\n|> \\n|> See, there you go again, saying that a moral act is only significant\\n|> if it is \"voluntary.\"  Why do you think this?\\n\\nIf you force me to do something, am I morally responsible for it?\\n\\n|> \\n|> And anyway, humans have the ability to disregard some of their instincts.\\n\\nWell, make up your mind.    Is it to be \"instinctive not to murder\"\\nor not?\\n\\n|> \\n|> >>So, only intelligent beings can be moral, even if the bahavior of other\\n|> >>beings mimics theirs?\\n|> >\\n|> >You are starting to get the point.  Mimicry is not necessarily the \\n|> >same as the action being imitated.  A Parrot saying \"Pretty Polly\" \\n|> >isn\\'t necessarily commenting on the pulchritude of Polly.\\n|> \\n|> You are attaching too many things to the term \"moral,\" I think.\\n|> Let\\'s try this:  is it \"good\" that animals of the same species\\n|> don\\'t kill each other.  Or, do you think this is right? \\n\\nIt\\'s not even correct.    Animals of the same species do kill\\none another.\\n\\n|> \\n|> Or do you think that animals are machines, and that nothing they do\\n|> is either right nor wrong?\\n\\nSigh.   I wonder how many times we have been round this loop.\\n\\nI think that instinctive bahaviour has no moral significance.\\nI am quite prepared to believe that higher animals, such as\\nprimates, have the beginnings of a moral sense, since they seem\\nto exhibit self-awareness.\\n\\n|> \\n|> \\n|> >>Animals of the same species could kill each other arbitarily, but \\n|> >>they don\\'t.\\n|> >\\n|> >They do.  I and other posters have given you many examples of exactly\\n|> >this, but you seem to have a very short memory.\\n|> \\n|> Those weren\\'t arbitrary killings.  They were slayings related to some \\n|> sort of mating ritual or whatnot.\\n\\nSo what?     Are you trying to say that some killing in animals\\nhas a moral significance and some does not?   Is this your\\nnatural morality>\\n\\n\\n|> \\n|> >>Are you trying to say that this isn\\'t an act of morality because\\n|> >>most animals aren\\'t intelligent enough to think like we do?\\n|> >\\n|> >I\\'m saying:\\n|> >\\t\"There must be the possibility that the organism - it\\'s not \\n|> >\\tjust people we are talking about - can consider alternatives.\"\\n|> >\\n|> >It\\'s right there in the posting you are replying to.\\n|> \\n|> Yes it was, but I still don\\'t understand your distinctions.  What\\n|> do you mean by \"consider?\"  Can a small child be moral?  How about\\n|> a gorilla?  A dolphin?  A platypus?  Where is the line drawn?  Does\\n|> the being need to be self aware?\\n\\nAre you blind?   What do you think that this sentence means?\\n\\n\\t\"There must be the possibility that the organism - it\\'s not \\n\\tjust people we are talking about - can consider alternatives.\"\\n\\nWhat would that imply?\\n\\n|> \\n|> What *do* you call the mechanism which seems to prevent animals of\\n|> the same species from (arbitrarily) killing each other?  Don\\'t\\n|> you find the fact that they don\\'t at all significant?\\n\\nI find the fact that they do to be significant. \\n\\njon.\\n',\n",
              " '\\n\\nIn article <9454@tekig7.PEN.TEK.COM>, naren@tekig1.PEN.TEK.COM (Naren Bala) writes:\\n\\n> LIST OF KILLINGS IN THE NAME OF RELIGION \\n> 1. Iran-Iraq War: 1,000,000\\n> 2. Civil War in Sudan: 1,000,000\\n> 3, Riots in India-Pakistan in 1947: 1,000,000\\n> 4. Massacares in Bangladesh in 1971: 1,000,000\\n> 5. Inquistions in America in 1500s: x million (x=??)\\n> 6. Crusades: ??\\n\\n7. Massacre of Jews in WWII: 6.3 million\\n8. Massacre of other \\'inferior races\\' in WWII: 10 million\\n9. Communist purges: 20-30 million? [Socialism is more or less a religion]\\n10. Catholics V Protestants : quite a few I\\'d imagine\\n11. Recent goings on in Bombay/Iodia (sp?) area: ??\\n12. Disease introduced to Brazilian * oher S.Am. tribes: x million\\n\\n> -- Naren\\n\\nThe Desert Brat\\n-- \\nJohn J McVey, Elc&Eltnc Eng, Whyalla, Uni S Australia,    ________\\n9051467f@levels.unisa.edu.au      T.S.A.K.C.            \\\\/Darwin o\\\\\\nFor replies, mail to whjjm@wh.whyalla.unisa.edu.au      /\\\\________/\\nDisclaimer: Unisa hates my opinions.                       bb  bb\\n+------------------------------------------------------+-----------------------+\\n|\"It doesn\\'t make a rainbow any less beautiful that we | \"God\\'s name is smack  |\\n|understand the refractive mechanisms that chance to   | for some.\"            |\\n|produce it.\" - Jim Perry, perry@dsinc.com             |    - Alice In Chains  |\\n+------------------------------------------------------+-----------------------+\\n',\n",
              " '\\n\\nIn <CINDY.93Apr18124333@solan10.solan.unit.no> cindy@solan10.solan.unit.no (Cynthia Kandolf) writes:\\n\\n>Various quotes deleted in the interest of saving a little bit of\\n>bandwidth, but i will copy the Koran quote:\\n>>>>\"AND IT IS HE (GOD ALMIGHTY) WHO CREATED THE NIGHT AND THE\\n>>>>DAY, AND THE SUN AND THE EARTH:  ALL (THE CELETIAL BODIES)\\n>>>>SWIM ALONG, EACH IN ITS ROUNDED COURSE.\"  (Holy Quran 21:33)\\n\\n>As it has been pointed out, this quote makes no claim about what\\n>orbits what.  The idea that something orbited something had been held\\n>as true for many years before the Koran was written, so the fact that\\n>it says something orbits something is hardly surprising insight.  My\\n>concern is with the word \"rounded\". \\n\\n>There are two interpretations of this word:\\n>1. It means in a circle.  This is wrong, although many believed it to\\n>be true at the time the Koran was written.  In other words, it is not\\n>describing our neighborhood of the universe as it really exists, but\\n>as it was thought to be at the time.  This has implications which i\\n>hope are obvious to everyone.\\n>2. It means \"in a rounded shape\", which could include elipses (the\\n>geometrical form which most nearly describes the orbits of the\\n>planets).  This is also not a great insight.  Look at the shapes you\\n>see in nature.  Very few of them even approach a square or rectangle;\\n>those are human-created shapes.  Everything in nature is rounded to\\n>some degree.  Even the flat-earthers don\\'t try to claim Earth is a\\n>rectangle.  Children who draw imaginary animals seldom give them\\n>rectangular bodies.  We seem to instinctively recognize that nature\\n>produces rounded shapes; hence, the assumption that the orbits of the\\n>planets would be round hardly takes divine inspiration.\\n\\nIt is good to remember that every translation is to some extent an\\ninterpretation, so (as you point out below) one must really go back to\\nthe original Arabic.  Regarding the verses relevant to nature, I prefer\\nto use Dr. Maurice Bucaille\\'s translations (in his book, \"The Bible, the\\nQur\\'an and Science\") for in general his translations are more literal.\\n \\nMaurice Bucaille translates the portion of the verse you are addressing\\nas \\n\\n\"...Each one is travelling with an orbit in its own motion.\"\\n\\n(Also note that \"the celestial bodies\" in the first translation quoted\\nby you above is the translator\\'s interpolation -- it is not existent in\\nthe original Arabic, which is why it is included in brackets.) \\n\\n>Perhaps someone who can read the original Arabic can eliminate one of\\n>these interpretations; at any rate, neither one of them is exactly\\n>impressive.\\n\\nYou\\'re right, what the verses _do_ contain isn\\'t all that remarkable.\\n\\nHowever, Dr. Bucaille (a surgeon, that\\'s how he\\'s a \"Dr.\") thinks it is\\nsignificant that the above verse contains no geocentric ideas, even\\nthough geocentrism was all the rage up until the 17th century (?) or so.\\n(And this goes for the rest of the Qur\\'an as well, which has about 750\\nverses or so regarding nature, I think I remember reading once.)\\n\\n Fred Rice\\n darice@yoyo.cc.monash.edu.au   \\n',\n",
              " '\\n\\nlivesey@solntze.wpd.sgi.com (Jon Livesey) writes:\\n\\n>>This whole thread started because of a discussion about whether\\n>>or not the death penalty constituted cruel punishment, which is forbidden\\n>>by the US Constitution.\\n>Yes, but they didn\\'t say what they meant by \"cruel\", which is why\\n>a) you have the Supreme Court, and b) it makes no sense to refer\\n>to the Constitution, which is quite silent on the meaning of the\\n>word \"cruel\".\\n\\nThey spent quite a bit of time on the wording of the Constitution.  They\\npicked words whose meanings implied the intent.  We have already looked\\nin the dictionary to define the word.  Isn\\'t this sufficient?\\n\\n>>Oh, but we were discussing the death penalty (and that discussion\\n>>resulted from the one about murder which resulted from an intial\\n>>discussion about objective morality--so this is already three times\\n>>removed from the morality discussion).\\n>Actually, we were discussing the mening of the word \"cruel\" and\\n>the US Constitution says nothing about that.\\n\\nBut we were discussing it in relation to the death penalty.  And, the\\nConstitution need not define each of the words within.  Anyone who doesn\\'t\\nknow what cruel is can look in the dictionary (and we did).\\n\\nkeith\\n',\n",
              " \"\\n\\nIn article <115846@bu.edu>\\njaeger@buphy.bu.edu (Gregg Jaeger) writes:\\n \\n(Deletion)\\n>Certainly. It is a central aspect of Islam to show mercy and to give\\n>those who've done wrong (even presuming Rushdie _did_ violate Islamic\\n>Law) and committed crimes. This was the basis for my posts regarding\\n>leniency which seemed not to have penetrated Benedikt's skull.\\n \\nYou have demanded harsh punishments of several crimes. Repeating\\noffenders have slipped in only as justification of harsh punishment at\\nall. Typically religious doublespeak. Whenever you have contradictory\\nstatements you choose the possibility that suits your current argument.\\n \\nIt is disgusting that someone with ideas that would make Theodore KKKaldis\\nfeel cozy can go along under the protection of religion.\\n \\nGregg, tell us, would you kill idolaters?\\n   Benedikt\\n\"]"
            ]
          },
          "metadata": {
            "tags": []
          },
          "execution_count": 31
        }
      ]
    },
    {
      "metadata": {
        "id": "6hRPAPaaY1kW",
        "colab_type": "code",
        "colab": {
          "base_uri": "https://localhost:8080/",
          "height": 35
        },
        "outputId": "b8fcf545-01ad-4556-881e-5399c25648a9"
      },
      "cell_type": "code",
      "source": [
        "word_avg = 0 \n",
        "for i in texts:\n",
        "  word_avg = word_avg + len(i)\n",
        "print(word_avg/ len(texts))"
      ],
      "execution_count": 36,
      "outputs": [
        {
          "output_type": "stream",
          "text": [
            "1718.1255188278242\n"
          ],
          "name": "stdout"
        }
      ]
    },
    {
      "metadata": {
        "id": "7mgsgb3WXyux",
        "colab_type": "code",
        "colab": {}
      },
      "cell_type": "code",
      "source": [
        "from keras.preprocessing.text import Tokenizer"
      ],
      "execution_count": 0,
      "outputs": []
    },
    {
      "metadata": {
        "id": "WNwfS1D_YPbS",
        "colab_type": "code",
        "colab": {}
      },
      "cell_type": "code",
      "source": [
        "tokenizer = Tokenizer(num_words=20000)"
      ],
      "execution_count": 0,
      "outputs": []
    },
    {
      "metadata": {
        "id": "JVbKK3DwZgVL",
        "colab_type": "code",
        "colab": {}
      },
      "cell_type": "code",
      "source": [
        "tokenizer.fit_on_texts(texts)"
      ],
      "execution_count": 0,
      "outputs": []
    },
    {
      "metadata": {
        "id": "QwF-EKUSZmuH",
        "colab_type": "code",
        "colab": {}
      },
      "cell_type": "code",
      "source": [
        "sequences  = tokenizer.texts_to_sequences(texts)"
      ],
      "execution_count": 0,
      "outputs": []
    },
    {
      "metadata": {
        "id": "qL4k5fOhZvID",
        "colab_type": "code",
        "colab": {}
      },
      "cell_type": "code",
      "source": [
        "word_index = tokenizer.word_index"
      ],
      "execution_count": 0,
      "outputs": []
    },
    {
      "metadata": {
        "id": "k7jyg1CcZzM9",
        "colab_type": "code",
        "colab": {
          "base_uri": "https://localhost:8080/",
          "height": 35
        },
        "outputId": "e72133b2-3634-4ee7-c10e-07fae04067b3"
      },
      "cell_type": "code",
      "source": [
        "len(word_index)"
      ],
      "execution_count": 42,
      "outputs": [
        {
          "output_type": "execute_result",
          "data": {
            "text/plain": [
              "174074"
            ]
          },
          "metadata": {
            "tags": []
          },
          "execution_count": 42
        }
      ]
    },
    {
      "metadata": {
        "id": "iDpwLP84Z1aG",
        "colab_type": "code",
        "colab": {
          "base_uri": "https://localhost:8080/",
          "height": 235
        },
        "outputId": "c58ab778-8b91-4199-d872-f7b0fd1475aa"
      },
      "cell_type": "code",
      "source": [
        "for index, i in enumerate(word_index.items()):\n",
        "  print(i)\n",
        "  if index > 10:\n",
        "    break"
      ],
      "execution_count": 45,
      "outputs": [
        {
          "output_type": "stream",
          "text": [
            "('the', 1)\n",
            "('to', 2)\n",
            "('of', 3)\n",
            "('a', 4)\n",
            "('and', 5)\n",
            "('in', 6)\n",
            "('i', 7)\n",
            "('is', 8)\n",
            "('that', 9)\n",
            "(\"'ax\", 10)\n",
            "('it', 11)\n",
            "('for', 12)\n"
          ],
          "name": "stdout"
        }
      ]
    },
    {
      "metadata": {
        "id": "k-v1io6LZ6nG",
        "colab_type": "code",
        "colab": {
          "base_uri": "https://localhost:8080/",
          "height": 35
        },
        "outputId": "0b470436-c4c1-4a81-cd3b-e4ba7da1a931"
      },
      "cell_type": "code",
      "source": [
        "len(sequences)"
      ],
      "execution_count": 48,
      "outputs": [
        {
          "output_type": "execute_result",
          "data": {
            "text/plain": [
              "19997"
            ]
          },
          "metadata": {
            "tags": []
          },
          "execution_count": 48
        }
      ]
    },
    {
      "metadata": {
        "id": "J5mQ7UUqaYgW",
        "colab_type": "code",
        "colab": {}
      },
      "cell_type": "code",
      "source": [
        "from keras.preprocessing.sequence import pad_sequences"
      ],
      "execution_count": 0,
      "outputs": []
    },
    {
      "metadata": {
        "id": "PXhJCP-3a-Oo",
        "colab_type": "code",
        "colab": {}
      },
      "cell_type": "code",
      "source": [
        "data = pad_sequences(sequences, maxlen=1500)"
      ],
      "execution_count": 0,
      "outputs": []
    },
    {
      "metadata": {
        "id": "rjnd11Z0bOzW",
        "colab_type": "code",
        "colab": {
          "base_uri": "https://localhost:8080/",
          "height": 144
        },
        "outputId": "f0b9506a-9a00-446c-dd28-11b1d9d34d97"
      },
      "cell_type": "code",
      "source": [
        "data[:10]"
      ],
      "execution_count": 51,
      "outputs": [
        {
          "output_type": "execute_result",
          "data": {
            "text/plain": [
              "array([[    0,     0,     0, ...,  1419,     2,  1278],\n",
              "       [    0,     0,     0, ...,     3,  1213,   370],\n",
              "       [    0,     0,     0, ...,    81,    50, 14584],\n",
              "       ...,\n",
              "       [    0,     0,     0, ...,  3647,    26,   642],\n",
              "       [    0,     0,     0, ...,    46,   139,  1300],\n",
              "       [    0,     0,     0, ...,    13,   770,  5816]], dtype=int32)"
            ]
          },
          "metadata": {
            "tags": []
          },
          "execution_count": 51
        }
      ]
    },
    {
      "metadata": {
        "id": "J7nZujC_bQVg",
        "colab_type": "code",
        "colab": {
          "base_uri": "https://localhost:8080/",
          "height": 35
        },
        "outputId": "d56dd5b9-0ce8-4be2-b853-f0324dd9905b"
      },
      "cell_type": "code",
      "source": [
        "data.shape"
      ],
      "execution_count": 52,
      "outputs": [
        {
          "output_type": "execute_result",
          "data": {
            "text/plain": [
              "(19997, 1500)"
            ]
          },
          "metadata": {
            "tags": []
          },
          "execution_count": 52
        }
      ]
    },
    {
      "metadata": {
        "id": "jllEP_GbbUFn",
        "colab_type": "code",
        "colab": {}
      },
      "cell_type": "code",
      "source": [
        "from keras.utils import to_categorical"
      ],
      "execution_count": 0,
      "outputs": []
    },
    {
      "metadata": {
        "id": "wHUNN6tMbcRy",
        "colab_type": "code",
        "colab": {}
      },
      "cell_type": "code",
      "source": [
        "labels = to_categorical(np.array(labels))"
      ],
      "execution_count": 0,
      "outputs": []
    },
    {
      "metadata": {
        "id": "H-yR_QyybnZw",
        "colab_type": "code",
        "colab": {
          "base_uri": "https://localhost:8080/",
          "height": 35
        },
        "outputId": "992b3ff7-d50a-47bf-c864-4bee3be323db"
      },
      "cell_type": "code",
      "source": [
        "labels.shape"
      ],
      "execution_count": 56,
      "outputs": [
        {
          "output_type": "execute_result",
          "data": {
            "text/plain": [
              "(19997, 20)"
            ]
          },
          "metadata": {
            "tags": []
          },
          "execution_count": 56
        }
      ]
    },
    {
      "metadata": {
        "id": "pZ-1jmTlbpM8",
        "colab_type": "code",
        "colab": {}
      },
      "cell_type": "code",
      "source": [
        "indices = np.arange(data.shape[0])"
      ],
      "execution_count": 0,
      "outputs": []
    },
    {
      "metadata": {
        "id": "KGXQS9HXb23B",
        "colab_type": "code",
        "colab": {}
      },
      "cell_type": "code",
      "source": [
        "np.random.shuffle(indices)"
      ],
      "execution_count": 0,
      "outputs": []
    },
    {
      "metadata": {
        "id": "LySeasQ_b63X",
        "colab_type": "code",
        "colab": {}
      },
      "cell_type": "code",
      "source": [
        "data = data[indices]"
      ],
      "execution_count": 0,
      "outputs": []
    },
    {
      "metadata": {
        "id": "9DUPxM6Yb-3_",
        "colab_type": "code",
        "colab": {}
      },
      "cell_type": "code",
      "source": [
        "labels = labels[indices]"
      ],
      "execution_count": 0,
      "outputs": []
    },
    {
      "metadata": {
        "id": "42vro0mZcBis",
        "colab_type": "code",
        "colab": {}
      },
      "cell_type": "code",
      "source": [
        "num_validation_sample = int(0.2*data.shape[0])"
      ],
      "execution_count": 0,
      "outputs": []
    },
    {
      "metadata": {
        "id": "ZVrIe58ZcMcg",
        "colab_type": "code",
        "colab": {}
      },
      "cell_type": "code",
      "source": [
        "x_train = data[:-num_validation_sample]\n",
        "y_train = labels[:-num_validation_sample]\n",
        "\n",
        "x_val = data[-num_validation_sample:]\n",
        "y_val = labels[-num_validation_sample:]"
      ],
      "execution_count": 0,
      "outputs": []
    },
    {
      "metadata": {
        "id": "3BYv5vbfcfZO",
        "colab_type": "code",
        "colab": {
          "base_uri": "https://localhost:8080/",
          "height": 35
        },
        "outputId": "62576667-9fb8-484b-c731-66106e5aff52"
      },
      "cell_type": "code",
      "source": [
        "x_train.shape, y_train.shape, x_val.shape, y_val.shape"
      ],
      "execution_count": 68,
      "outputs": [
        {
          "output_type": "execute_result",
          "data": {
            "text/plain": [
              "((15998, 1500), (15998, 20), (3999, 1500), (3999, 20))"
            ]
          },
          "metadata": {
            "tags": []
          },
          "execution_count": 68
        }
      ]
    },
    {
      "metadata": {
        "id": "-osRh8kico90",
        "colab_type": "code",
        "colab": {}
      },
      "cell_type": "code",
      "source": [
        "num_words = min(20000, len(word_index) + 1)"
      ],
      "execution_count": 0,
      "outputs": []
    },
    {
      "metadata": {
        "id": "wveQjADZeUY5",
        "colab_type": "code",
        "colab": {
          "base_uri": "https://localhost:8080/",
          "height": 35
        },
        "outputId": "814c197a-757b-4f79-8525-cbc2644928c7"
      },
      "cell_type": "code",
      "source": [
        "num_words"
      ],
      "execution_count": 75,
      "outputs": [
        {
          "output_type": "execute_result",
          "data": {
            "text/plain": [
              "20000"
            ]
          },
          "metadata": {
            "tags": []
          },
          "execution_count": 75
        }
      ]
    },
    {
      "metadata": {
        "id": "2EIy6JzcdGMR",
        "colab_type": "code",
        "colab": {}
      },
      "cell_type": "code",
      "source": [
        "embedding_matrix = np.zeros((num_words, 50))\n",
        "for word, i in word_index.items():\n",
        "  if i > 19999:\n",
        "    continue\n",
        "  embedding_vector = embedding_index.get(word)\n",
        "  if embedding_vector is not None:\n",
        "    #print(i)\n",
        "    embedding_matrix[i] = embedding_vector"
      ],
      "execution_count": 0,
      "outputs": []
    },
    {
      "metadata": {
        "id": "KNkVroTedsWT",
        "colab_type": "code",
        "colab": {
          "base_uri": "https://localhost:8080/",
          "height": 35
        },
        "outputId": "5650b420-f7a6-4f6c-e3d4-dd2f9dbf8884"
      },
      "cell_type": "code",
      "source": [
        "embedding_matrix.shape"
      ],
      "execution_count": 80,
      "outputs": [
        {
          "output_type": "execute_result",
          "data": {
            "text/plain": [
              "(20000, 50)"
            ]
          },
          "metadata": {
            "tags": []
          },
          "execution_count": 80
        }
      ]
    },
    {
      "metadata": {
        "id": "tXFOs3aQd8Ft",
        "colab_type": "code",
        "colab": {
          "base_uri": "https://localhost:8080/",
          "height": 217
        },
        "outputId": "aeff9f35-6b9b-433f-f3fb-597edac2a02e"
      },
      "cell_type": "code",
      "source": [
        "embedding_index.get(\"is\")"
      ],
      "execution_count": 90,
      "outputs": [
        {
          "output_type": "execute_result",
          "data": {
            "text/plain": [
              "array([ 6.1850e-01,  6.4254e-01, -4.6552e-01,  3.7570e-01,  7.4838e-01,\n",
              "        5.3739e-01,  2.2239e-03, -6.0577e-01,  2.6408e-01,  1.1703e-01,\n",
              "        4.3722e-01,  2.0092e-01, -5.7859e-02, -3.4589e-01,  2.1664e-01,\n",
              "        5.8573e-01,  5.3919e-01,  6.9490e-01, -1.5618e-01,  5.5830e-02,\n",
              "       -6.0515e-01, -2.8997e-01, -2.5594e-02,  5.5593e-01,  2.5356e-01,\n",
              "       -1.9612e+00, -5.1381e-01,  6.9096e-01,  6.6246e-02, -5.4224e-02,\n",
              "        3.7871e+00, -7.7403e-01, -1.2689e-01, -5.1465e-01,  6.6705e-02,\n",
              "       -3.2933e-01,  1.3483e-01,  1.9049e-01,  1.3812e-01, -2.1503e-01,\n",
              "       -1.6573e-02,  3.1200e-01, -3.3189e-01, -2.6001e-02, -3.8203e-01,\n",
              "        1.9403e-01, -1.2466e-01, -2.7557e-01,  3.0899e-01,  4.8497e-01],\n",
              "      dtype=float32)"
            ]
          },
          "metadata": {
            "tags": []
          },
          "execution_count": 90
        }
      ]
    },
    {
      "metadata": {
        "id": "Ti_jxIPAd_JD",
        "colab_type": "code",
        "colab": {}
      },
      "cell_type": "code",
      "source": [
        "from keras.layers import Embedding\n",
        "from keras.initializers import Constant"
      ],
      "execution_count": 0,
      "outputs": []
    },
    {
      "metadata": {
        "id": "IEEem5xWf3Xd",
        "colab_type": "code",
        "colab": {}
      },
      "cell_type": "code",
      "source": [
        "embedding_layer = Embedding(num_words, 50, embeddings_initializer=Constant(embedding_matrix), input_length=1500, trainable=False)"
      ],
      "execution_count": 0,
      "outputs": []
    },
    {
      "metadata": {
        "id": "TCWnehuTf6eR",
        "colab_type": "code",
        "colab": {}
      },
      "cell_type": "code",
      "source": [
        "from keras.layers import Dense, Input, GlobalMaxPooling1D\n",
        "from keras.layers import Conv1D, MaxPooling1D\n",
        "from keras.models import Model"
      ],
      "execution_count": 0,
      "outputs": []
    },
    {
      "metadata": {
        "id": "Zin4NXNwhhFy",
        "colab_type": "code",
        "colab": {}
      },
      "cell_type": "code",
      "source": [
        "sequence_input = Input(shape=(1500,), dtype=\"int32\")\n",
        "embedded_sequence = embedding_layer(sequence_input)"
      ],
      "execution_count": 0,
      "outputs": []
    },
    {
      "metadata": {
        "id": "aC3Ig8jph3uj",
        "colab_type": "code",
        "colab": {}
      },
      "cell_type": "code",
      "source": [
        "x = Conv1D(128, 5, activation='relu')(embedded_sequence)\n",
        "x = MaxPooling1D(5)(x)\n",
        "\n",
        "x = Conv1D(128, 5, activation='relu')(x)\n",
        "x = MaxPooling1D(5)(x)\n",
        "\n",
        "x = Conv1D(128, 5, activation='relu')(x)\n",
        "x = GlobalMaxPooling1D()(x)\n",
        "\n",
        "x = Dense(128, activation='relu')(x)\n",
        "preds = Dense(len(labels_index), activation='softmax')(x)"
      ],
      "execution_count": 0,
      "outputs": []
    },
    {
      "metadata": {
        "id": "20GIQwSuihBg",
        "colab_type": "code",
        "colab": {}
      },
      "cell_type": "code",
      "source": [
        "model = Model(sequence_input, preds)"
      ],
      "execution_count": 0,
      "outputs": []
    },
    {
      "metadata": {
        "id": "LAR_3KHUi_7d",
        "colab_type": "code",
        "colab": {}
      },
      "cell_type": "code",
      "source": [
        "model.compile(loss='categorical_crossentropy', optimizer=\"rmsprop\", metrics=[\"acc\"])"
      ],
      "execution_count": 0,
      "outputs": []
    },
    {
      "metadata": {
        "id": "3cJf-cyrjJTx",
        "colab_type": "code",
        "colab": {
          "base_uri": "https://localhost:8080/",
          "height": 780
        },
        "outputId": "0c97fed5-e1c6-481f-8b3b-ae51cf08a139"
      },
      "cell_type": "code",
      "source": [
        "model.fit(x_train, y_train, batch_size=128, epochs=20, validation_data=(x_val, y_val))"
      ],
      "execution_count": 104,
      "outputs": [
        {
          "output_type": "stream",
          "text": [
            "Train on 15998 samples, validate on 3999 samples\n",
            "Epoch 1/20\n",
            "15998/15998 [==============================] - 12s 758us/step - loss: 2.3912 - acc: 0.2100 - val_loss: 1.9276 - val_acc: 0.3283\n",
            "Epoch 2/20\n",
            "15998/15998 [==============================] - 8s 473us/step - loss: 1.6016 - acc: 0.4397 - val_loss: 1.3522 - val_acc: 0.5149\n",
            "Epoch 3/20\n",
            "15998/15998 [==============================] - 8s 471us/step - loss: 1.2921 - acc: 0.5483 - val_loss: 1.3021 - val_acc: 0.5454\n",
            "Epoch 4/20\n",
            "15998/15998 [==============================] - 8s 471us/step - loss: 1.0985 - acc: 0.6236 - val_loss: 1.1718 - val_acc: 0.5966\n",
            "Epoch 5/20\n",
            "15998/15998 [==============================] - 8s 472us/step - loss: 0.9510 - acc: 0.6785 - val_loss: 1.0845 - val_acc: 0.6382\n",
            "Epoch 6/20\n",
            "15998/15998 [==============================] - 8s 472us/step - loss: 0.8342 - acc: 0.7163 - val_loss: 1.0049 - val_acc: 0.6507\n",
            "Epoch 7/20\n",
            "15998/15998 [==============================] - 8s 474us/step - loss: 0.7262 - acc: 0.7570 - val_loss: 1.0992 - val_acc: 0.6457\n",
            "Epoch 8/20\n",
            "15998/15998 [==============================] - 8s 472us/step - loss: 0.6345 - acc: 0.7850 - val_loss: 1.0467 - val_acc: 0.6702\n",
            "Epoch 9/20\n",
            "15998/15998 [==============================] - 8s 472us/step - loss: 0.5520 - acc: 0.8107 - val_loss: 0.9613 - val_acc: 0.6914\n",
            "Epoch 10/20\n",
            "15998/15998 [==============================] - 8s 472us/step - loss: 0.4820 - acc: 0.8374 - val_loss: 1.0048 - val_acc: 0.6909\n",
            "Epoch 11/20\n",
            "15998/15998 [==============================] - 8s 475us/step - loss: 0.4112 - acc: 0.8594 - val_loss: 0.9882 - val_acc: 0.7064\n",
            "Epoch 12/20\n",
            "15998/15998 [==============================] - 8s 473us/step - loss: 0.3554 - acc: 0.8779 - val_loss: 1.1198 - val_acc: 0.6949\n",
            "Epoch 13/20\n",
            "15998/15998 [==============================] - 8s 473us/step - loss: 0.3149 - acc: 0.8957 - val_loss: 1.3874 - val_acc: 0.6467\n",
            "Epoch 14/20\n",
            "15998/15998 [==============================] - 8s 473us/step - loss: 0.2803 - acc: 0.9094 - val_loss: 1.1271 - val_acc: 0.6994\n",
            "Epoch 15/20\n",
            "15998/15998 [==============================] - 8s 471us/step - loss: 0.2451 - acc: 0.9212 - val_loss: 1.1052 - val_acc: 0.7137\n",
            "Epoch 16/20\n",
            "15998/15998 [==============================] - 8s 473us/step - loss: 0.2211 - acc: 0.9257 - val_loss: 1.8849 - val_acc: 0.6452\n",
            "Epoch 17/20\n",
            "15998/15998 [==============================] - 8s 472us/step - loss: 0.2072 - acc: 0.9339 - val_loss: 1.2175 - val_acc: 0.7154\n",
            "Epoch 18/20\n",
            "15998/15998 [==============================] - 8s 472us/step - loss: 0.1936 - acc: 0.9384 - val_loss: 1.2045 - val_acc: 0.7142\n",
            "Epoch 19/20\n",
            "15998/15998 [==============================] - 8s 472us/step - loss: 0.1778 - acc: 0.9421 - val_loss: 1.1851 - val_acc: 0.7307\n",
            "Epoch 20/20\n",
            "15998/15998 [==============================] - 8s 473us/step - loss: 0.1744 - acc: 0.9462 - val_loss: 1.1305 - val_acc: 0.7224\n"
          ],
          "name": "stdout"
        },
        {
          "output_type": "execute_result",
          "data": {
            "text/plain": [
              "<keras.callbacks.History at 0x7facceba0be0>"
            ]
          },
          "metadata": {
            "tags": []
          },
          "execution_count": 104
        }
      ]
    },
    {
      "metadata": {
        "id": "JumLvShajT57",
        "colab_type": "code",
        "colab": {}
      },
      "cell_type": "code",
      "source": [
        ""
      ],
      "execution_count": 0,
      "outputs": []
    }
  ]
}